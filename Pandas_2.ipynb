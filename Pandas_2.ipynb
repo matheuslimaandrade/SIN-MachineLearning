{
  "cells": [
    {
      "cell_type": "markdown",
      "metadata": {
        "id": "view-in-github",
        "colab_type": "text"
      },
      "source": [
        "<a href=\"https://colab.research.google.com/github/matheuslimaandrade/SIN-MachineLearning/blob/main/Pandas_2.ipynb\" target=\"_parent\"><img src=\"https://colab.research.google.com/assets/colab-badge.svg\" alt=\"Open In Colab\"/></a>"
      ]
    },
    {
      "cell_type": "code",
      "execution_count": null,
      "metadata": {
        "id": "xJC-vwqbpCiJ"
      },
      "outputs": [],
      "source": [
        "import pandas as pd\n",
        "import numpy as np\n",
        "import os"
      ]
    },
    {
      "cell_type": "markdown",
      "metadata": {
        "id": "CcTm-QXBpCiK"
      },
      "source": [
        "Para responder os exercícios a seguir, utilize os dados fornecidos na planilha \"Bilateral_Country_Shares_govt_nationality_full.csv\""
      ]
    },
    {
      "cell_type": "code",
      "execution_count": null,
      "metadata": {
        "id": "xG9W8o8HpCiN"
      },
      "outputs": [],
      "source": [
        "shares_gov = pd.read_csv(\"Bilateral_Country_Shares_govt_nationality_full.csv\", sep = \",\")"
      ]
    },
    {
      "cell_type": "markdown",
      "metadata": {
        "id": "IictuxO1pCiN"
      },
      "source": [
        "1) Retorne em ordem crescente, os países que contem maior \"portfolio_share\" do Brasil nos anos de 2006, 2009 e 2013. Apresente um dataframe para cada ano mencionado (ou seja, 3 dataframes - 06', 09', 13'), contendo duas colunas: \"Nome do País\" e \"Porfolio Share\""
      ]
    },
    {
      "cell_type": "code",
      "execution_count": null,
      "metadata": {
        "id": "UZve3ldIpCiO"
      },
      "outputs": [],
      "source": [
        "#escreva aqui"
      ]
    },
    {
      "cell_type": "markdown",
      "metadata": {
        "id": "e9gBeLBSpCiP"
      },
      "source": [
        "2) É usual que os países se financiem por emissão de dívida interna, ou seja, que o país contenha um \"porfolio_share\" considerável dos seus próprios títulos relativo aos títulos de outros países. Exemplo, em 2017, ~ 27.8% da dívida nacional australiana era composta de títulos emitidos pelo próprio governo australiano. Indique no ano de 2014, qual dos países analisados possuía maior dívida interna?"
      ]
    },
    {
      "cell_type": "code",
      "execution_count": null,
      "metadata": {
        "id": "LSx0NoSapCiP"
      },
      "outputs": [],
      "source": [
        "#escreva aqui"
      ]
    },
    {
      "cell_type": "markdown",
      "metadata": {
        "id": "39oc8SGOpCiQ"
      },
      "source": [
        "Para responder os exercícios a seguir, utilize os dados fornecidos na planilha \"236_data.xlsx\" (na aba \"Master\")"
      ]
    },
    {
      "cell_type": "code",
      "execution_count": null,
      "metadata": {
        "id": "kxn_8_IEpCiQ"
      },
      "outputs": [],
      "source": [
        "currencies = pd.read_excel(\"236_data.xlsx\", sheet_name= \"Master\", skiprows=7)\n"
      ]
    },
    {
      "cell_type": "markdown",
      "metadata": {
        "id": "1_tUNnsJpCiR"
      },
      "source": [
        "3) Qual o ano com maior frequência de \"Freely_falling\" como moeda de referência?"
      ]
    },
    {
      "cell_type": "code",
      "execution_count": null,
      "metadata": {
        "id": "NsiqScTYpCiS"
      },
      "outputs": [],
      "source": [
        "#escreva aqui"
      ]
    },
    {
      "cell_type": "markdown",
      "metadata": {
        "id": "VlnR6sF2pCiS"
      },
      "source": [
        "4) Com a queda da União Soviética, além da separação política, foi possível observar uma movimentação na moeda utilizada como âncora. Retorne um dataframe que contenha o ano em que cada país da lista abaixo deixou de utilizar o RUB (ruble)"
      ]
    },
    {
      "cell_type": "code",
      "execution_count": null,
      "metadata": {
        "id": "kuhlbeAwpCiS"
      },
      "outputs": [],
      "source": [
        "#Para ajudar, aqui está uma lista com os nomes dos países (ex-Russia) que deve ser utilizada p este exercício\n",
        "urss_list = [\"Ukraine\", \"Georgia\", \"Uzbekistan\", \"Armenia\", \"Azerbaijan\", \"Kazakhstan\", \"Kyrgyzstan\", \"Moldova\",\n",
        "\"Turkmenistan\", \"Tajikistan\", \"Latvia\", \"Lithuania\", \"Estonia\"]"
      ]
    },
    {
      "cell_type": "code",
      "execution_count": null,
      "metadata": {
        "id": "fv9MTJsLpCiS"
      },
      "outputs": [],
      "source": [
        "#escreva aqui"
      ]
    },
    {
      "cell_type": "markdown",
      "metadata": {
        "id": "RmIghqgHpCiS"
      },
      "source": [
        "5) Retorne a década em que houve maior troca de \"Currency Anchors\" no mundo"
      ]
    },
    {
      "cell_type": "code",
      "execution_count": null,
      "metadata": {
        "id": "V1EVVMKMpCiT"
      },
      "outputs": [],
      "source": [
        "#escreva aqui"
      ]
    }
  ],
  "metadata": {
    "kernelspec": {
      "display_name": "Python 3.7.6 ('base')",
      "language": "python",
      "name": "python3"
    },
    "language_info": {
      "codemirror_mode": {
        "name": "ipython",
        "version": 3
      },
      "file_extension": ".py",
      "mimetype": "text/x-python",
      "name": "python",
      "nbconvert_exporter": "python",
      "pygments_lexer": "ipython3",
      "version": "3.7.6"
    },
    "orig_nbformat": 4,
    "vscode": {
      "interpreter": {
        "hash": "e3eb86e430a5509920f3453e77c50f3391ea3767bdb44dcc3e78c42ca90283f8"
      }
    },
    "colab": {
      "provenance": [],
      "include_colab_link": true
    }
  },
  "nbformat": 4,
  "nbformat_minor": 0
}