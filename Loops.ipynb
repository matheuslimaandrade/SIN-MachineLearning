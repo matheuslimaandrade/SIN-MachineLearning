{
  "cells": [
    {
      "cell_type": "markdown",
      "id": "2eebb078",
      "metadata": {
        "id": "2eebb078"
      },
      "source": [
        "**Questão 1 - 9, a salvação:**\n",
        "\n",
        "Escreva um código que retorne a soma de todos os números até 1000 que sejam divisíveis por 9 e a quantidade de números que foram somados.\n",
        "  \n",
        "  Dica: analise bem a questão e escolha o laço mais condizente.\n"
      ]
    },
    {
      "cell_type": "code",
      "execution_count": 1,
      "id": "0203b2bb",
      "metadata": {
        "id": "0203b2bb",
        "colab": {
          "base_uri": "https://localhost:8080/"
        },
        "outputId": "72ec1952-a6eb-4aaa-a84c-81580021d9b4"
      },
      "outputs": [
        {
          "output_type": "stream",
          "name": "stdout",
          "text": [
            "(55944, 111)\n"
          ]
        }
      ],
      "source": [
        "def numbers(limite):\n",
        "  soma = 0\n",
        "  quantidade = 0\n",
        "\n",
        "  for numero in range(1, limite + 1):\n",
        "    if numero % 9 == 0:\n",
        "      soma += numero\n",
        "      quantidade += 1\n",
        "  return soma, quantidade\n",
        "\n",
        "print(numbers(1000))"
      ]
    },
    {
      "cell_type": "markdown",
      "id": "cb7accf3",
      "metadata": {
        "id": "cb7accf3"
      },
      "source": [
        "**Questão 2 - Ajuda nas etec's:**\n",
        "\n",
        "No começo do ano a FEA.Dev deu aulas de python gratuitas em algumas etec's de São Paulo. Ao ver o que a programação poderia fazer, o professor Roberval, de matemática, pediu para que construíssemos um programa que fizesse uma Progressão Aritimética (PA) automaticamente, apenas inserindo o **primeiro termo** e sua **razão**, para que ele pudesse ser mais ágil em suas aulas.\n",
        "\n",
        "*Lembre-se que uma PA é uma sequência de números em que cada termo é igual ao termo anterior somado a um número (razão). Ex -> 1, 4, 7, 10... os números vão seguindo de 3 em 3 (razão).*"
      ]
    },
    {
      "cell_type": "markdown",
      "source": [
        "a) Sua missão é montar um programa que peça dois inputs: o do primeiro termo e da razão e retorne a sequência. Sua P.A deve ter 10 termos."
      ],
      "metadata": {
        "id": "-YsYTrgTH5uR"
      },
      "id": "-YsYTrgTH5uR"
    },
    {
      "cell_type": "code",
      "source": [
        "def pa():\n",
        "  ft = int(input(\"ft: \"))\n",
        "  razao = int(input(\"razao: \"))\n",
        "  pa = [ft]\n",
        "  for x in range(9):\n",
        "    pa.append(ft + (razao * (x+1)))\n",
        "  print(pa)\n",
        "\n",
        "pa()"
      ],
      "metadata": {
        "id": "0VVb581xJu4t",
        "colab": {
          "base_uri": "https://localhost:8080/"
        },
        "outputId": "81d80e09-a040-4c31-ffb5-1dec83d4528e"
      },
      "id": "0VVb581xJu4t",
      "execution_count": 2,
      "outputs": [
        {
          "output_type": "stream",
          "name": "stdout",
          "text": [
            "ft: 1\n",
            "razao: 3\n",
            "[1, 4, 7, 10, 13, 16, 19, 22, 25, 28]\n"
          ]
        }
      ]
    },
    {
      "cell_type": "markdown",
      "id": "cc9fb3cb",
      "metadata": {
        "id": "cc9fb3cb"
      },
      "source": [
        "b) Roberval ficou animado com o novo programa criado por você e mostrou pra um amigo dele que dá aula para o fundamental 1. Ao ver a mágica acontecendo o amigo do professor Roberval quase implorou para que você construísse uma tabuada automática para ele.\n",
        "\n",
        "Escreva um código que receba o input de um número e retorne sua tabuada padrão, multiplicando até 10 e ajude o amigo de Roberval a automatizar suas aulas.\n",
        "  \n",
        " OBS: deixe sua tabuada toda alinhada conforme exemplo:\n",
        "\n",
        "    n = 7\n",
        "    \n",
        "    7 x 1 = 7\n",
        "    7 x 2 = 14\n",
        "    .\n",
        "    .\n",
        "    .\n",
        "    7 X  9 = 63\n",
        "    7 X 10 = 70"
      ]
    },
    {
      "cell_type": "code",
      "execution_count": 3,
      "id": "f83df876",
      "metadata": {
        "id": "f83df876",
        "outputId": "ec32a6b2-3612-4945-f9b0-449712b4ffab",
        "colab": {
          "base_uri": "https://localhost:8080/"
        }
      },
      "outputs": [
        {
          "output_type": "stream",
          "name": "stdout",
          "text": [
            "x: 2\n",
            "2 * 1 = 2\n",
            "2 * 2 = 4\n",
            "2 * 3 = 6\n",
            "2 * 4 = 8\n",
            "2 * 5 = 10\n",
            "2 * 6 = 12\n",
            "2 * 7 = 14\n",
            "2 * 8 = 16\n",
            "2 * 9 = 18\n",
            "2 * 10 = 20\n"
          ]
        }
      ],
      "source": [
        "def table():\n",
        "  x = int(input(\"x: \"))\n",
        "  for mult in range(10):\n",
        "    print(\"{0} * {1} = {2}\".format(x, mult+1, x*(mult+1)))\n",
        "\n",
        "table()"
      ]
    },
    {
      "cell_type": "markdown",
      "id": "b24436d4",
      "metadata": {
        "id": "b24436d4"
      },
      "source": [
        "**Questão 3 - Soma infinita:**\n",
        "\n",
        "Crie um programa que peça para digitar um número constantemente, até que o usário digite o número 0. Em seguida mostre a soma de todos os valores inputados, e a quantidade de números que foram inputados.\n",
        "  "
      ]
    },
    {
      "cell_type": "code",
      "source": [
        "def sum():\n",
        "  total = 0\n",
        "  stop = 0\n",
        "  counter = -1\n",
        "  x = 1\n",
        "  while (x != stop):\n",
        "    x = int(input(\"x:({0} to stop): \".format(stop)))\n",
        "    total += x\n",
        "    counter+=1\n",
        "  total -= stop\n",
        "  print(\"sum of {0} numbers = {1}!\".format(counter, total))\n",
        "\n",
        "\n",
        "sum()"
      ],
      "metadata": {
        "colab": {
          "base_uri": "https://localhost:8080/",
          "height": 321
        },
        "id": "IVNnot6HYLbv",
        "outputId": "74fae8a8-07d6-4f14-f105-982c5e3be8f2"
      },
      "id": "IVNnot6HYLbv",
      "execution_count": 10,
      "outputs": [
        {
          "output_type": "error",
          "ename": "KeyboardInterrupt",
          "evalue": "Interrupted by user",
          "traceback": [
            "\u001b[0;31m---------------------------------------------------------------------------\u001b[0m",
            "\u001b[0;31mKeyboardInterrupt\u001b[0m                         Traceback (most recent call last)",
            "\u001b[0;32m<ipython-input-10-17a06d9fc2b5>\u001b[0m in \u001b[0;36m<cell line: 14>\u001b[0;34m()\u001b[0m\n\u001b[1;32m     12\u001b[0m \u001b[0;34m\u001b[0m\u001b[0m\n\u001b[1;32m     13\u001b[0m \u001b[0;34m\u001b[0m\u001b[0m\n\u001b[0;32m---> 14\u001b[0;31m \u001b[0msum\u001b[0m\u001b[0;34m(\u001b[0m\u001b[0;34m)\u001b[0m\u001b[0;34m\u001b[0m\u001b[0;34m\u001b[0m\u001b[0m\n\u001b[0m",
            "\u001b[0;32m<ipython-input-10-17a06d9fc2b5>\u001b[0m in \u001b[0;36msum\u001b[0;34m()\u001b[0m\n\u001b[1;32m      5\u001b[0m   \u001b[0mx\u001b[0m \u001b[0;34m=\u001b[0m \u001b[0;36m1\u001b[0m\u001b[0;34m\u001b[0m\u001b[0;34m\u001b[0m\u001b[0m\n\u001b[1;32m      6\u001b[0m   \u001b[0;32mwhile\u001b[0m \u001b[0;34m(\u001b[0m\u001b[0mx\u001b[0m \u001b[0;34m!=\u001b[0m \u001b[0mstop\u001b[0m\u001b[0;34m)\u001b[0m\u001b[0;34m:\u001b[0m\u001b[0;34m\u001b[0m\u001b[0;34m\u001b[0m\u001b[0m\n\u001b[0;32m----> 7\u001b[0;31m     \u001b[0mx\u001b[0m \u001b[0;34m=\u001b[0m \u001b[0mint\u001b[0m\u001b[0;34m(\u001b[0m\u001b[0minput\u001b[0m\u001b[0;34m(\u001b[0m\u001b[0;34m\"x:({0} to stop): \"\u001b[0m\u001b[0;34m.\u001b[0m\u001b[0mformat\u001b[0m\u001b[0;34m(\u001b[0m\u001b[0mstop\u001b[0m\u001b[0;34m)\u001b[0m\u001b[0;34m)\u001b[0m\u001b[0;34m)\u001b[0m\u001b[0;34m\u001b[0m\u001b[0;34m\u001b[0m\u001b[0m\n\u001b[0m\u001b[1;32m      8\u001b[0m     \u001b[0mtotal\u001b[0m \u001b[0;34m+=\u001b[0m \u001b[0mx\u001b[0m\u001b[0;34m\u001b[0m\u001b[0;34m\u001b[0m\u001b[0m\n\u001b[1;32m      9\u001b[0m     \u001b[0mcounter\u001b[0m\u001b[0;34m+=\u001b[0m\u001b[0;36m1\u001b[0m\u001b[0;34m\u001b[0m\u001b[0;34m\u001b[0m\u001b[0m\n",
            "\u001b[0;32m/usr/local/lib/python3.10/dist-packages/ipykernel/kernelbase.py\u001b[0m in \u001b[0;36mraw_input\u001b[0;34m(self, prompt)\u001b[0m\n\u001b[1;32m    849\u001b[0m                 \u001b[0;34m\"raw_input was called, but this frontend does not support input requests.\"\u001b[0m\u001b[0;34m\u001b[0m\u001b[0;34m\u001b[0m\u001b[0m\n\u001b[1;32m    850\u001b[0m             )\n\u001b[0;32m--> 851\u001b[0;31m         return self._input_request(str(prompt),\n\u001b[0m\u001b[1;32m    852\u001b[0m             \u001b[0mself\u001b[0m\u001b[0;34m.\u001b[0m\u001b[0m_parent_ident\u001b[0m\u001b[0;34m,\u001b[0m\u001b[0;34m\u001b[0m\u001b[0;34m\u001b[0m\u001b[0m\n\u001b[1;32m    853\u001b[0m             \u001b[0mself\u001b[0m\u001b[0;34m.\u001b[0m\u001b[0m_parent_header\u001b[0m\u001b[0;34m,\u001b[0m\u001b[0;34m\u001b[0m\u001b[0;34m\u001b[0m\u001b[0m\n",
            "\u001b[0;32m/usr/local/lib/python3.10/dist-packages/ipykernel/kernelbase.py\u001b[0m in \u001b[0;36m_input_request\u001b[0;34m(self, prompt, ident, parent, password)\u001b[0m\n\u001b[1;32m    893\u001b[0m             \u001b[0;32mexcept\u001b[0m \u001b[0mKeyboardInterrupt\u001b[0m\u001b[0;34m:\u001b[0m\u001b[0;34m\u001b[0m\u001b[0;34m\u001b[0m\u001b[0m\n\u001b[1;32m    894\u001b[0m                 \u001b[0;31m# re-raise KeyboardInterrupt, to truncate traceback\u001b[0m\u001b[0;34m\u001b[0m\u001b[0;34m\u001b[0m\u001b[0m\n\u001b[0;32m--> 895\u001b[0;31m                 \u001b[0;32mraise\u001b[0m \u001b[0mKeyboardInterrupt\u001b[0m\u001b[0;34m(\u001b[0m\u001b[0;34m\"Interrupted by user\"\u001b[0m\u001b[0;34m)\u001b[0m \u001b[0;32mfrom\u001b[0m \u001b[0;32mNone\u001b[0m\u001b[0;34m\u001b[0m\u001b[0;34m\u001b[0m\u001b[0m\n\u001b[0m\u001b[1;32m    896\u001b[0m             \u001b[0;32mexcept\u001b[0m \u001b[0mException\u001b[0m \u001b[0;32mas\u001b[0m \u001b[0me\u001b[0m\u001b[0;34m:\u001b[0m\u001b[0;34m\u001b[0m\u001b[0;34m\u001b[0m\u001b[0m\n\u001b[1;32m    897\u001b[0m                 \u001b[0mself\u001b[0m\u001b[0;34m.\u001b[0m\u001b[0mlog\u001b[0m\u001b[0;34m.\u001b[0m\u001b[0mwarning\u001b[0m\u001b[0;34m(\u001b[0m\u001b[0;34m\"Invalid Message:\"\u001b[0m\u001b[0;34m,\u001b[0m \u001b[0mexc_info\u001b[0m\u001b[0;34m=\u001b[0m\u001b[0;32mTrue\u001b[0m\u001b[0;34m)\u001b[0m\u001b[0;34m\u001b[0m\u001b[0;34m\u001b[0m\u001b[0m\n",
            "\u001b[0;31mKeyboardInterrupt\u001b[0m: Interrupted by user"
          ]
        }
      ]
    },
    {
      "cell_type": "code",
      "execution_count": 16,
      "id": "5593459b",
      "metadata": {
        "id": "5593459b",
        "outputId": "1d2e8049-d72b-475c-a26c-02b5830806c9",
        "colab": {
          "base_uri": "https://localhost:8080/"
        }
      },
      "outputs": [
        {
          "output_type": "stream",
          "name": "stdout",
          "text": [
            "x:(159 to stop): 159\n",
            "sum of 0 numbers = 0!\n"
          ]
        }
      ],
      "source": [
        "def sum():\n",
        "  total = 0\n",
        "  stop = 159\n",
        "  counter = -1\n",
        "  x = 1\n",
        "  while (x != stop):\n",
        "    x = int(input(\"x:({0} to stop): \".format(stop)))\n",
        "    total += x\n",
        "    counter+=1\n",
        "  total -= stop\n",
        "  print(\"sum of {0} numbers = {1}!\".format(counter, total))\n",
        "\n",
        "\n",
        "sum()"
      ]
    },
    {
      "cell_type": "markdown",
      "source": [
        "**Questão 4 - Bad Romance:**\n",
        "\n",
        "De volta a 2009. Tem umas músicas com um refrão tão gostosinho que fica martelando na nossa mente, então vamos aproveitar para analisar e exercitar nossas skills de programação. Escreva um código que conte quantas vezes a letra \"a\" aparece em duas estrofes do famoso hit de Lady Gaga:"
      ],
      "metadata": {
        "id": "vAQnrfCQxNrV"
      },
      "id": "vAQnrfCQxNrV"
    },
    {
      "cell_type": "code",
      "source": [
        "bad_romance = \"\"\"Rah, rah-ah-ah-ah\n",
        "                 Roma, roma-ma\n",
        "                 Gaga, ooh-la-la\n",
        "                 Want your bad romance\n",
        "\n",
        "                 Rah, rah-ah-ah-ah\n",
        "                 Roma, roma-ma\n",
        "                 Gaga, ooh-la-la\n",
        "                 Want your bad romance\"\"\"\n",
        "\n",
        "#####SEU CODIGO COMECA AQUI#####\n",
        "\n",
        "def counter(bad_romance: str):\n",
        "  counter = 0\n",
        "  go = True\n",
        "  while(go):\n",
        "    bad_romance = bad_romance.replace(\"a\", \"\", 1)\n",
        "    if((\"a\" in bad_romance) is False):\n",
        "      go = False\n",
        "    counter+= 1\n",
        "\n",
        "  return counter\n",
        "\n",
        "\n",
        "num_a = counter(bad_romance)\n",
        "\n",
        "# RESPOSTA AQUI\n",
        "\n",
        "print(num_a)"
      ],
      "metadata": {
        "colab": {
          "base_uri": "https://localhost:8080/"
        },
        "id": "82DqDw7h0YIl",
        "outputId": "d7f21549-ea2d-407e-bc12-7bbd9632f638"
      },
      "id": "82DqDw7h0YIl",
      "execution_count": 17,
      "outputs": [
        {
          "output_type": "stream",
          "name": "stdout",
          "text": [
            "30\n"
          ]
        }
      ]
    },
    {
      "cell_type": "markdown",
      "source": [
        "**Questão 5 - Estilo musical:**\n",
        "\n",
        "Ainda pensando na lady Gaga, nosso querido dever separou alguns artistas que ele gosta por estilo musical. Faça um programa que, apenas indicando o estilo musical, retorne todos os artistas desse estilo escolhido que estão dentro do dicionário.\n",
        "\n",
        "PS: estilos musicais presentes no dicionário: Forró, Pagode, Clássica, MPB, Sertanejo, Jazz, Rock e Pop."
      ],
      "metadata": {
        "id": "GRS7sh_6uA2k"
      },
      "id": "GRS7sh_6uA2k"
    },
    {
      "cell_type": "code",
      "source": [
        "artistas = {'Julie London': 'Jazz', 'John Coltrane': 'Jazz', 'João Gomes': 'Forró', 'Debussy': 'Clássica', 'Michael Jackson': 'Pop', 'Barões da Pisadinha': 'Forró',\n",
        "            'Marília Mendonça': 'Sertanejo', 'Beethoven': 'Clássica', 'Calcinha Preta': 'Forró', 'AC/DC': 'Rock', 'Bruno Mars': 'Pop', 'Seu Jorge': 'MPB', 'Thiaguinho': 'Pagode'}\n",
        "\n",
        "#####SEU CODIGO COMECA AQUI#####\n",
        "\n",
        "def music_style():\n",
        "  continua = True\n",
        "  artist = []\n",
        "  song = str(input(\"Music Style: \"))\n",
        "  for artista in artistas:\n",
        "    if(artistas.get(artista) == song):\n",
        "      artist.append(artista)\n",
        "  if(len(artist) == 0):\n",
        "    return \"Estilo musical não incluso na lista.\"\n",
        "  return \"Style: {0} \\ Artistis: {1}.\".format(song, str(artist).replace('\\'','').replace('[', '').replace(']', ''))\n",
        "\n",
        "# RESPOSTA AQUI\n",
        "\n",
        "print(music_style())"
      ],
      "metadata": {
        "id": "dXBJMs_YwuJR",
        "colab": {
          "base_uri": "https://localhost:8080/"
        },
        "outputId": "32840f93-e918-4dfc-f99c-c5ae80a54d80"
      },
      "id": "dXBJMs_YwuJR",
      "execution_count": 22,
      "outputs": [
        {
          "output_type": "stream",
          "name": "stdout",
          "text": [
            "Music Style: Jazz\n",
            "Style: Jazz \\ Artistis: Julie London, John Coltrane.\n"
          ]
        }
      ]
    },
    {
      "cell_type": "markdown",
      "source": [
        "**Questão 6 - Stairway to Heaven:**\n",
        "\n",
        "O grande poder dos Loops é que você poder printar elementos em uma velocidade muuito maior. Utilize esse novo poder para printar os digitos de 1 a 9 da seguinte maneira:"
      ],
      "metadata": {
        "id": "DuAmQvBL9XZC"
      },
      "id": "DuAmQvBL9XZC"
    },
    {
      "cell_type": "code",
      "source": [
        "\"\"\"\n",
        "1\n",
        "22\n",
        "333\n",
        "4444\n",
        "55555\n",
        "666666\n",
        "7777777\n",
        "88888888\n",
        "999999999\n",
        "\"\"\"\n"
      ],
      "metadata": {
        "id": "lMfBpuxxdRwY",
        "colab": {
          "base_uri": "https://localhost:8080/",
          "height": 36
        },
        "outputId": "8f82c816-e5e4-4f79-c0e9-c566d4dc19f6"
      },
      "id": "lMfBpuxxdRwY",
      "execution_count": 23,
      "outputs": [
        {
          "output_type": "execute_result",
          "data": {
            "text/plain": [
              "'\\n1\\n22\\n333\\n4444\\n55555\\n666666\\n7777777\\n88888888\\n999999999\\n'"
            ],
            "application/vnd.google.colaboratory.intrinsic+json": {
              "type": "string"
            }
          },
          "metadata": {},
          "execution_count": 23
        }
      ]
    },
    {
      "cell_type": "code",
      "source": [
        "for x in range(0, 10):\n",
        "  for n in range(0, x):\n",
        "    print(x, end=\"\")\n",
        "  print()\n"
      ],
      "metadata": {
        "colab": {
          "base_uri": "https://localhost:8080/"
        },
        "id": "6m9G6F3J94-y",
        "outputId": "5a3b6b96-725b-4993-81d4-e76e44477901"
      },
      "id": "6m9G6F3J94-y",
      "execution_count": 24,
      "outputs": [
        {
          "output_type": "stream",
          "name": "stdout",
          "text": [
            "\n",
            "1\n",
            "22\n",
            "333\n",
            "4444\n",
            "55555\n",
            "666666\n",
            "7777777\n",
            "88888888\n",
            "999999999\n"
          ]
        }
      ]
    },
    {
      "cell_type": "markdown",
      "source": [
        "**Questão 7 - A hora dos primos:**\n",
        "Escreva um código que receba o input de um número e verifique se ele é primo ou não."
      ],
      "metadata": {
        "id": "Qqil80RH3MLd"
      },
      "id": "Qqil80RH3MLd"
    },
    {
      "cell_type": "code",
      "source": [
        "n = int(input(\"X: \"))\n",
        "\n",
        "\n",
        "# RESPOSTA AQUI\n",
        "def primo(x):\n",
        "  for number in range(2, x):\n",
        "    if(x % number == 0):\n",
        "      return '{0} not primo.'.format(x)\n",
        "  return '{0} primo.'.format(x)\n",
        "\n",
        "primo(n)"
      ],
      "metadata": {
        "colab": {
          "base_uri": "https://localhost:8080/",
          "height": 53
        },
        "id": "kbEAMB1z3Lmu",
        "outputId": "e264a762-d5e5-436f-8692-1fef9ad0676f"
      },
      "id": "kbEAMB1z3Lmu",
      "execution_count": 30,
      "outputs": [
        {
          "name": "stdout",
          "output_type": "stream",
          "text": [
            "X: 4\n"
          ]
        },
        {
          "output_type": "execute_result",
          "data": {
            "text/plain": [
              "'4 not primo.'"
            ],
            "application/vnd.google.colaboratory.intrinsic+json": {
              "type": "string"
            }
          },
          "metadata": {},
          "execution_count": 30
        }
      ]
    },
    {
      "cell_type": "markdown",
      "source": [
        "# Questão 8 - A peculiaridade das Startups:\n",
        "\n",
        "Precificar uma Startup sempre foi difícil. A maioria delas não dão lucro nos primeiros anos, mas o potencial de mercado é gigantesco. Como de fato se faz o valuation de uma empresa dessas? um dos métodos para se fazer esse valuation, é multiplicar o faturamento atual dessa Startup por 10! Projetando em 10 anos o que se considera agora.\n",
        "\n",
        "Sua missão é identificar dentro da lista de valores, uma Startup iniciante e fazer seu valuation projetado em 10 anos.\n",
        "\n",
        "PS: Considere o valor de faturamento de uma Startup iniciante menor ou igual a 300 mil."
      ],
      "metadata": {
        "id": "qlnUxp24zLL7"
      },
      "id": "qlnUxp24zLL7"
    },
    {
      "cell_type": "code",
      "source": [
        "## valores da lista em milhar\n",
        "\n",
        "faturamentos = {'startup 1': 1000, 'startup 2':500, 'startup 3':60, 'startup 4':250,\n",
        "                'startup 5':600, 'startup 6':700, 'startup 7':54, 'startup 8':230,\n",
        "                'startup 9':300, 'startup 10':95, 'startup 11':850}\n",
        "\n",
        "# RESPOSTA AQUI\n",
        "\n",
        "def valuation(faturamentos: dict):\n",
        "  for x in faturamentos:\n",
        "    if(faturamentos[x] <= 300):\n",
        "      print(\"valuation of {0} will be {1} thousand.\".format(x, faturamentos[x]*10))\n",
        "\n",
        "valuation(faturamentos)"
      ],
      "metadata": {
        "id": "CrAyVU1L2haZ",
        "colab": {
          "base_uri": "https://localhost:8080/"
        },
        "outputId": "27a6ba1d-ac43-4a4a-d4ba-e512d086ee76"
      },
      "id": "CrAyVU1L2haZ",
      "execution_count": 32,
      "outputs": [
        {
          "output_type": "stream",
          "name": "stdout",
          "text": [
            "valuation of startup 3 will be 600 thousand.\n",
            "valuation of startup 4 will be 2500 thousand.\n",
            "valuation of startup 7 will be 540 thousand.\n",
            "valuation of startup 8 will be 2300 thousand.\n",
            "valuation of startup 9 will be 3000 thousand.\n",
            "valuation of startup 10 will be 950 thousand.\n"
          ]
        }
      ]
    },
    {
      "cell_type": "markdown",
      "source": [
        "**Exercício extra**\n",
        "\n",
        "*Mais um dia como estagiário no FEA.dev S.A. Você chega para fazer seu trabalho rotineiro de enviar e-mails para os clientes pedindo (alguma coisa). No entanto, essa semana foram prospectados mais alguns clientes e as informações básicas deles chegaram de maneira desestruturada:*"
      ],
      "metadata": {
        "id": "_CC8Mw_NAzYq"
      },
      "id": "_CC8Mw_NAzYq"
    },
    {
      "cell_type": "code",
      "execution_count": null,
      "metadata": {
        "id": "97_-EEHhATd-"
      },
      "outputs": [],
      "source": [
        "nomes_clientes = ['Gustavo', 'Kevyn', 'Max', 'Thais']\n",
        "sobrenomes_clientes = ['Yamachi', 'Marcelino', 'Juan', 'Teixeira']\n",
        "email = ['gustavo.yamachi@email.com', 'kevyn.marcelino@email.com']"
      ],
      "id": "97_-EEHhATd-"
    },
    {
      "cell_type": "markdown",
      "source": [
        "Perceba como nem todos os e-mails dos clientes estão na lista e que os nomes e sobrenomes vieram separados. Você nota, porém que o padrão de e-mail é sempre o mesmo: \"Nome\".\"Sobrenome\"\"@email.com\". Dessa forma, escreva um código que identifique o endereço dos outros clientes e atribua à lista \"emails\""
      ],
      "metadata": {
        "id": "_GvpmF7QDP9s"
      },
      "id": "_GvpmF7QDP9s"
    },
    {
      "cell_type": "code",
      "source": [
        "#####SEU CODIGO COMECA AQUI#####\n",
        "emails = []\n",
        "\n",
        "# RESPOSTA AQUI\n",
        "def find_mails(mails: list):\n",
        "  email_temp = \"\"\n",
        "  for index in range(0, len(sobrenomes_clientes)):\n",
        "    email_temp = nomes_clientes[index].lower() + \".\" + sobrenomes_clientes[index].lower() + \"@email.com\"\n",
        "    if ((email_temp in email) is False):\n",
        "      email.append(email_temp)\n",
        "\n",
        "  return email\n",
        "\n",
        "find_mails(email)"
      ],
      "metadata": {
        "id": "RGBwfDAECCde",
        "colab": {
          "base_uri": "https://localhost:8080/"
        },
        "outputId": "8f3f9ddc-1d24-483f-aea7-80d27cf18615"
      },
      "execution_count": null,
      "outputs": [
        {
          "output_type": "execute_result",
          "data": {
            "text/plain": [
              "['gustavo.yamachi@email.com',\n",
              " 'kevyn.marcelino@email.com',\n",
              " 'max.juan@email.com',\n",
              " 'thais.teixeira@email.com']"
            ]
          },
          "metadata": {},
          "execution_count": 39
        }
      ],
      "id": "RGBwfDAECCde"
    },
    {
      "cell_type": "markdown",
      "source": [
        "b) Crie um loop que passe pela lista de e-mails envie uma mensagem personalizada para cada um desses clientes. Seu código deverá gerar 4 mensagens no seguinte formato:\n",
        "\n",
        "\"To: (email do cliente), Bom dia (nome do cliente), agradecemos muito por ter escolhido a FEA.dev\"\n",
        "\n",
        "Dica: para facilitar a relação de clientes e seus respectivos endereços de e-mail, utilize a estrutura de dicionários"
      ],
      "metadata": {
        "id": "ssB-1jhevy2a"
      },
      "id": "ssB-1jhevy2a"
    },
    {
      "cell_type": "code",
      "source": [
        "# Criar dicionário e enviar e-mail\n",
        "dicionario = dict(zip(nomes_clientes, email))\n",
        "\n",
        "# RESPOSTA AQUI\n",
        "\n",
        "for x in dicionario:\n",
        "  print(\"To: {0}, Bom dia {1}, agradecemos muito por ter escolhido a FEA.dev\".format(dicionario[x], x))"
      ],
      "metadata": {
        "id": "8u1nrYm0E0HA",
        "colab": {
          "base_uri": "https://localhost:8080/"
        },
        "outputId": "09966818-fd0b-4574-eeb8-243654b296f7"
      },
      "execution_count": null,
      "outputs": [
        {
          "output_type": "stream",
          "name": "stdout",
          "text": [
            "To: gustavo.yamachi@email.com, Bom dia Gustavo, agradecemos muito por ter escolhido a FEA.dev\n",
            "To: kevyn.marcelino@email.com, Bom dia Kevyn, agradecemos muito por ter escolhido a FEA.dev\n",
            "To: max.juan@email.com, Bom dia Max, agradecemos muito por ter escolhido a FEA.dev\n",
            "To: thais.teixeira@email.com, Bom dia Thais, agradecemos muito por ter escolhido a FEA.dev\n"
          ]
        }
      ],
      "id": "8u1nrYm0E0HA"
    }
  ],
  "metadata": {
    "kernelspec": {
      "display_name": "Python 3 (ipykernel)",
      "language": "python",
      "name": "python3"
    },
    "language_info": {
      "codemirror_mode": {
        "name": "ipython",
        "version": 3
      },
      "file_extension": ".py",
      "mimetype": "text/x-python",
      "name": "python",
      "nbconvert_exporter": "python",
      "pygments_lexer": "ipython3",
      "version": "3.9.7"
    },
    "colab": {
      "provenance": []
    }
  },
  "nbformat": 4,
  "nbformat_minor": 5
}