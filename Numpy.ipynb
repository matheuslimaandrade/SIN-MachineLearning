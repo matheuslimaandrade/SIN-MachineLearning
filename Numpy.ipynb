{
  "cells": [
    {
      "cell_type": "markdown",
      "id": "b43aaa0c",
      "metadata": {
        "id": "b43aaa0c"
      },
      "source": [
        "# Numpy"
      ]
    },
    {
      "cell_type": "markdown",
      "id": "fcb03367",
      "metadata": {
        "id": "fcb03367"
      },
      "source": [
        "NumPy é uma biblioteca do Python especializada em computação científica e análise de dados. Ela é usada em diversos tipos de operações que envolvem operações matriciais. Além disso suas matrizes formam a base para outros pacotes, como o pandas e outras voltadas para o cálculo matemático e científico.\n",
        "\n",
        "NumPy, com suas matrizes, apresenta algumas vantagens sobre o cálculo usual com objetos do Python, como listas e tuplas. Essas operações são mais rápidas e flexíveis e foram construídas de forma a evitar a necessidade da realização de laços (loops)."
      ]
    },
    {
      "cell_type": "markdown",
      "id": "fe0a6a2d",
      "metadata": {
        "id": "fe0a6a2d"
      },
      "source": [
        "### <font color=green|black>**Futebol, Finanças e Python** </font>\n",
        "Os exercícios utilizam os dados disponíveis no relatório Convocados da XP: Finanças, História e Mercado do Futebol Brasileiro em 2021. Você verá como é fácil analisar tantos dados quando se entende de Python!\n",
        "#### <font color=green|black>**Bons estudos!**</font>"
      ]
    },
    {
      "cell_type": "markdown",
      "id": "2531e94a",
      "metadata": {
        "id": "2531e94a"
      },
      "source": [
        "# <font >Exercício 0: Importação </font>"
      ]
    },
    {
      "cell_type": "markdown",
      "id": "52473a88",
      "metadata": {
        "id": "52473a88"
      },
      "source": [
        "Utilizaremos diversas arrays, porém, para que o Python as reconheça, você primeiro precisa importar numpy como np."
      ]
    },
    {
      "cell_type": "code",
      "execution_count": null,
      "id": "c925603a",
      "metadata": {
        "id": "c925603a"
      },
      "outputs": [],
      "source": [
        "##### SEU CODIGO COMECA AQUI #####\n",
        "\n",
        "import numpy as np"
      ]
    },
    {
      "cell_type": "markdown",
      "id": "7c31f377",
      "metadata": {
        "id": "7c31f377"
      },
      "source": [
        "# <font >Exercício 1: String </font>"
      ]
    },
    {
      "cell_type": "markdown",
      "id": "579683dd",
      "metadata": {
        "id": "579683dd"
      },
      "source": [
        "**a)** Para verificarmos se você importou corretamente, converta a lista 'clubes' em uma array chamada 'np_clubes' e print três coisas: a np_clube, o seu tipo (type) e a quantidade de clubes (shape)."
      ]
    },
    {
      "cell_type": "code",
      "execution_count": null,
      "id": "441f7eec",
      "metadata": {
        "id": "441f7eec",
        "outputId": "f57c4073-df7e-4816-fc83-35390c2a5271",
        "colab": {
          "base_uri": "https://localhost:8080/"
        }
      },
      "outputs": [
        {
          "output_type": "stream",
          "name": "stdout",
          "text": [
            "Array de Clubes: ['America Mineiro' 'Athletico Paranaense' 'Atletico Goianiense'\n",
            " 'Atletico Mineiro' 'Avai' 'Bahia' 'Botafogo' 'Ceara' 'Chapecoense'\n",
            " 'Corinthians' 'Coritiba' 'Cuiaba' 'Cruzeiro' 'Flamengo' 'Fluminense'\n",
            " 'Fortaleza' 'Goias' 'Gremio' 'Internacional' 'Juventude' 'Palmeiras'\n",
            " 'Red Bull Bragantino' 'Santos' 'Sao Paulo' 'Sport' 'Vasco']\n",
            "Tipo da Array: <class 'numpy.ndarray'>\n",
            "Quantidade de Clubes: (26,)\n"
          ]
        }
      ],
      "source": [
        "clubes = ['America Mineiro', 'Athletico Paranaense', 'Atletico Goianiense', 'Atletico Mineiro', 'Avai', 'Bahia', 'Botafogo', 'Ceara', 'Chapecoense', 'Corinthians', 'Coritiba', 'Cuiaba', 'Cruzeiro', 'Flamengo', 'Fluminense', 'Fortaleza', 'Goias', 'Gremio', 'Internacional', 'Juventude', 'Palmeiras', 'Red Bull Bragantino', 'Santos', 'Sao Paulo', 'Sport', 'Vasco']\n",
        "\n",
        "##### SEU CODIGO COMECA AQUI #####\n",
        "\n",
        "np_clubes = np.array(clubes)\n",
        "\n",
        "print(\"Array de Clubes:\", np_clubes)\n",
        "print(\"Tipo da Array:\", type(np_clubes))\n",
        "print(\"Quantidade de Clubes:\", np_clubes.shape)\n"
      ]
    },
    {
      "cell_type": "markdown",
      "id": "6736ddf0",
      "metadata": {
        "id": "6736ddf0"
      },
      "source": [
        "**b)** Suponha que você quer mostrar a array para alguém que não enxerga muito bem. Por isso, decide printar todos os nomes em maiúsculo! *Dica: utilize a function_upper criada por nós conforme mostramos no exemplo.*"
      ]
    },
    {
      "cell_type": "code",
      "execution_count": null,
      "id": "816b2668",
      "metadata": {
        "id": "816b2668",
        "outputId": "ff54d452-6398-4e54-bed1-a23b22d88f7c",
        "colab": {
          "base_uri": "https://localhost:8080/"
        }
      },
      "outputs": [
        {
          "output_type": "stream",
          "name": "stdout",
          "text": [
            "Array de Clubes em Maiúsculo: ['AMERICA MINEIRO' 'ATHLETICO PARANAENSE' 'ATLETICO GOIANIENSE'\n",
            " 'ATLETICO MINEIRO' 'AVAI' 'BAHIA' 'BOTAFOGO' 'CEARA' 'CHAPECOENSE'\n",
            " 'CORINTHIANS' 'CORITIBA' 'CUIABA' 'CRUZEIRO' 'FLAMENGO' 'FLUMINENSE'\n",
            " 'FORTALEZA' 'GOIAS' 'GREMIO' 'INTERNACIONAL' 'JUVENTUDE' 'PALMEIRAS'\n",
            " 'RED BULL BRAGANTINO' 'SANTOS' 'SAO PAULO' 'SPORT' 'VASCO']\n",
            "Tipo da Array: <class 'numpy.ndarray'>\n",
            "Quantidade de Clubes: (26,)\n"
          ]
        }
      ],
      "source": [
        "##### SEU CODIGO COMECA AQUI #####\n",
        "def upper_case_list(lst):\n",
        "    return [item.upper() for item in lst]\n",
        "clubes_upper = upper_case_list(clubes)\n",
        "\n",
        "# Converter a lista de clubes em maiúsculo em uma array numpy\n",
        "np_clubes_upper = np.array(clubes_upper)\n",
        "\n",
        "# Imprimir a np_clubes_upper, o seu tipo e a quantidade de clubes (shape)\n",
        "print(\"Array de Clubes em Maiúsculo:\", np_clubes_upper)\n",
        "print(\"Tipo da Array:\", type(np_clubes_upper))\n",
        "print(\"Quantidade de Clubes:\", np_clubes_upper.shape)\n"
      ]
    },
    {
      "cell_type": "code",
      "execution_count": null,
      "id": "58df6491",
      "metadata": {
        "id": "58df6491",
        "outputId": "f22ffec8-ba3e-44ed-f9d3-37ff9221d5b2"
      },
      "outputs": [
        {
          "name": "stdout",
          "output_type": "stream",
          "text": [
            "['AMERICA MINEIRO' 'ATHLETICO PARANAENSE' 'ATLETICO GOIANIENSE'\n",
            " 'ATLETICO MINEIRO' 'AVAI' 'BAHIA' 'BOTAFOGO' 'CEARA' 'CHAPECOENSE'\n",
            " 'CORINTHIANS' 'CORITIBA' 'CUIABA' 'CRUZEIRO' 'FLAMENGO' 'FLUMINENSE'\n",
            " 'FORTALEZA' 'GOIAS' 'GREMIO' 'INTERNACIONAL' 'JUVENTUDE' 'PALMEIRAS'\n",
            " 'RED BULL BRAGANTINO' 'SANTOS' 'SAO PAULO' 'SPORT' 'VASCO']\n"
          ]
        }
      ],
      "source": [
        "##### SEU CODIGO COMECA AQUI #####\n"
      ]
    },
    {
      "cell_type": "markdown",
      "id": "bf54de94",
      "metadata": {
        "id": "bf54de94"
      },
      "source": [
        "# <font >Exercício 2: Receita </font>"
      ]
    },
    {
      "cell_type": "markdown",
      "id": "34cf9cb5",
      "metadata": {
        "id": "34cf9cb5"
      },
      "source": [
        "Agora que já brincamos com strings, vamos à melhor parte: números.\n",
        "\n",
        "Disponibilizams uma array contendo a receita de cada clube em 2021. Os dados estão em milhões BRL. Você precisa analisar dois dados: soma e média. Print tua resposta da seguinte maneira: **No ano 2021, a receita total do setor de futebol foi de X e a média de Y.**"
      ]
    },
    {
      "cell_type": "code",
      "execution_count": null,
      "id": "b29c53cd",
      "metadata": {
        "id": "b29c53cd",
        "outputId": "940e246c-4c0a-4255-c52e-4d0e0c2ded36",
        "colab": {
          "base_uri": "https://localhost:8080/"
        }
      },
      "outputs": [
        {
          "output_type": "stream",
          "name": "stdout",
          "text": [
            "No ano 2021, a receita total do setor de futebol foi de 7183 milhões BRL e a média foi de 276.2692307692308 milhões BRL.\n"
          ]
        }
      ],
      "source": [
        "receita_2021 = np.array([102, 265, 113, 506, 25, 200, 122, 140, 62, 503, 88, 70, 154, 1054, 324, 171, 50, 465, 382, 68, 911, 291, 372, 465, 94, 186])\n",
        "\n",
        "##### SEU CODIGO COMECA AQUI #####\n",
        "soma_receita = np.sum(receita_2021)\n",
        "\n",
        "media_receita = np.mean(receita_2021)\n",
        "\n",
        "print(\"No ano 2021, a receita total do setor de futebol foi de\", soma_receita, \"milhões BRL e a média foi de\", media_receita, \"milhões BRL.\")\n"
      ]
    },
    {
      "cell_type": "markdown",
      "id": "65aaa8fd",
      "metadata": {
        "id": "65aaa8fd"
      },
      "source": [
        "# <font >Exercício 3: Custos e Despesas </font>"
      ]
    },
    {
      "cell_type": "markdown",
      "id": "b2a06423",
      "metadata": {
        "id": "b2a06423"
      },
      "source": [
        "Disponibilizamos uma array contendo os custos e despesas de cada clube em 2021. Os dados estão em milhões BRL. Você precisa analisar dois dados: soma e média. Print tua resposta da seguinte maneira: **No ano 2021, os custos e despesas totais do setor de futebol foram de X e a média de Y.**"
      ]
    },
    {
      "cell_type": "code",
      "execution_count": null,
      "id": "f29f1993",
      "metadata": {
        "id": "f29f1993",
        "outputId": "3e7bade4-46de-43f0-cb65-0c10d882136a",
        "colab": {
          "base_uri": "https://localhost:8080/"
        }
      },
      "outputs": [
        {
          "output_type": "stream",
          "name": "stdout",
          "text": [
            "No ano 2021, os custos e despesas totais do setor de futebol foram de 4975 milhões BRL e a média foi de 191.34615384615384 milhões BRL.\n"
          ]
        }
      ],
      "source": [
        "custos_e_despesas_2021 = np.array([87, 170, 73, 386, 52, 132, 113, 108, 74, 324, 88, 66, 175, 545, 243, 132, 44, 336, 251, 51, 555, 185, 226, 363, 59, 137])\n",
        "\n",
        "##### SEU CODIGO COMECA AQUI #####\n",
        "soma_custos_despesas = np.sum(custos_e_despesas_2021)\n",
        "\n",
        "media_custos_despesas = np.mean(custos_e_despesas_2021)\n",
        "\n",
        "print(\"No ano 2021, os custos e despesas totais do setor de futebol foram de\", soma_custos_despesas, \"milhões BRL e a média foi de\", media_custos_despesas, \"milhões BRL.\")"
      ]
    },
    {
      "cell_type": "markdown",
      "id": "8bc57b94",
      "metadata": {
        "id": "8bc57b94"
      },
      "source": [
        "# <font >Exercício 4: Resultado Líquido </font>"
      ]
    },
    {
      "cell_type": "markdown",
      "id": "2f51283d",
      "metadata": {
        "id": "2f51283d"
      },
      "source": [
        "Para se chegar ao Resultado Líquido é preciso recolher os impostos ICMS, PIS, COFINS, IRPJ e CSLL. Entretanto, devido à Lei nº 9.615 (Lei Pelé), os clubes brasileiros recebem imunidade destes tributos em suas Demonstrações de Resultado. Sendo assim, ao subtrair os custos e despesas da Receita Total, o valor obtido já é o próprio Resultado Líquido.\n",
        "\n",
        "**a)** Crie e print uma array chamada resultado_liquido_2021 que subtraia os custos e despesas das receitas totais."
      ]
    },
    {
      "cell_type": "code",
      "execution_count": null,
      "id": "bf02a65b",
      "metadata": {
        "id": "bf02a65b",
        "outputId": "64967a62-fc9f-44cf-ca01-066f4c08663e",
        "colab": {
          "base_uri": "https://localhost:8080/"
        }
      },
      "outputs": [
        {
          "output_type": "stream",
          "name": "stdout",
          "text": [
            "Resultado Líquido em 2021: [ 20 100   0 100  10  20  20  20  10 100  10  10  30 100  20  20  10 100\n",
            "  30  10 100  50  30  60  10  20]\n"
          ]
        }
      ],
      "source": [
        "##### SEU CODIGO COMECA AQUI #####\n",
        "custos_despesas_2021 = np.array([82, 165, 113, 406, 15, 180, 102, 120, 52, 403, 78, 60, 124, 954, 304, 151, 40, 365, 352, 58, 811, 241, 342, 405, 84, 166])\n",
        "\n",
        "resultado_liquido_2021 = receita_2021 - custos_despesas_2021\n",
        "\n",
        "print(\"Resultado Líquido em 2021:\", resultado_liquido_2021)"
      ]
    },
    {
      "cell_type": "markdown",
      "id": "837421ae",
      "metadata": {
        "id": "837421ae"
      },
      "source": [
        "**b)** Imprima o nome de todos os clubes com seu resultado líquido. Print tua resposta da seguinte maneira: **América Mineiro: 15, Athletico Paranaense: 95... Vasco: 49**.\n",
        "\n",
        "*Dica: embora seja possível utilizar um loop com o mesmo índice nas arrays np_clubes e resultado_liquido_2021, o mais rápido e fácil é um recurso chamado **zip**.*"
      ]
    },
    {
      "cell_type": "code",
      "execution_count": null,
      "id": "7bf84c20",
      "metadata": {
        "id": "7bf84c20",
        "outputId": "526c1a48-2264-4228-bf71-0c8e3d7f496e",
        "colab": {
          "base_uri": "https://localhost:8080/"
        }
      },
      "outputs": [
        {
          "output_type": "stream",
          "name": "stdout",
          "text": [
            "America Mineiro: 20\n",
            "Athletico Paranaense: 100\n",
            "Atletico Goianiense: 0\n",
            "Atletico Mineiro: 100\n",
            "Avai: 10\n",
            "Bahia: 20\n",
            "Botafogo: 20\n",
            "Ceara: 20\n",
            "Chapecoense: 10\n",
            "Corinthians: 100\n",
            "Coritiba: 10\n",
            "Cuiaba: 10\n",
            "Cruzeiro: 30\n",
            "Flamengo: 100\n",
            "Fluminense: 20\n",
            "Fortaleza: 20\n",
            "Goias: 10\n",
            "Gremio: 100\n",
            "Internacional: 30\n",
            "Juventude: 10\n",
            "Palmeiras: 100\n",
            "Red Bull Bragantino: 50\n",
            "Santos: 30\n",
            "Sao Paulo: 60\n",
            "Sport: 10\n",
            "Vasco: 20\n"
          ]
        }
      ],
      "source": [
        "##### SEU CODIGO COMECA AQUI #####\n",
        "\n",
        "# Resolução com *zip\n",
        "clubes = ['America Mineiro', 'Athletico Paranaense', 'Atletico Goianiense', 'Atletico Mineiro', 'Avai', 'Bahia', 'Botafogo', 'Ceara', 'Chapecoense', 'Corinthians', 'Coritiba', 'Cuiaba', 'Cruzeiro', 'Flamengo', 'Fluminense', 'Fortaleza', 'Goias', 'Gremio', 'Internacional', 'Juventude', 'Palmeiras', 'Red Bull Bragantino', 'Santos', 'Sao Paulo', 'Sport', 'Vasco']\n",
        "\n",
        "resultado_liquido_2021 = receita_2021 - custos_despesas_2021\n",
        "\n",
        "for clube, resultado in zip(clubes, resultado_liquido_2021):\n",
        "    print(clube + \":\", resultado)\n",
        "\n"
      ]
    },
    {
      "cell_type": "code",
      "execution_count": null,
      "id": "8c7ac19c",
      "metadata": {
        "id": "8c7ac19c",
        "outputId": "cf827490-8d40-49e6-b5a9-3b259b100a5c"
      },
      "outputs": [
        {
          "name": "stdout",
          "output_type": "stream",
          "text": [
            "America Mineiro: 15\n",
            "Athletico Paranaense: 95\n",
            "Atletico Goianiense: 40\n",
            "Atletico Mineiro: 120\n",
            "Avai: -27\n",
            "Bahia: 68\n",
            "Botafogo: 9\n",
            "Ceara: 32\n",
            "Chapecoense: -12\n",
            "Corinthians: 179\n",
            "Coritiba: 0\n",
            "Cuiaba: 4\n",
            "Cruzeiro: -21\n",
            "Flamengo: 509\n",
            "Fluminense: 81\n",
            "Fortaleza: 39\n",
            "Goias: 6\n",
            "Gremio: 129\n",
            "Internacional: 131\n",
            "Juventude: 17\n",
            "Palmeiras: 356\n",
            "Red Bull Bragantino: 106\n",
            "Santos: 146\n",
            "Sao Paulo: 102\n",
            "Sport: 35\n",
            "Vasco: 49\n"
          ]
        }
      ],
      "source": [
        "##### SEU CODIGO COMECA AQUI #####\n",
        "\n",
        "# Resolução com loop\n"
      ]
    },
    {
      "cell_type": "markdown",
      "id": "6251edca",
      "metadata": {
        "id": "6251edca"
      },
      "source": [
        "# <font >Exercício 5: Análises Individuais </font>"
      ]
    },
    {
      "cell_type": "markdown",
      "id": "56ea740e",
      "metadata": {
        "id": "56ea740e"
      },
      "source": [
        "**a)** Filtre e print os clubes que possuíram resultado líquido acima de 200 milhões."
      ]
    },
    {
      "cell_type": "code",
      "execution_count": null,
      "id": "9f197853",
      "metadata": {
        "id": "9f197853",
        "outputId": "899ba41f-bbf0-4c1d-f087-190388c2d9ab",
        "colab": {
          "base_uri": "https://localhost:8080/"
        }
      },
      "outputs": [
        {
          "output_type": "stream",
          "name": "stdout",
          "text": [
            "Clubes com resultado líquido acima de 200 milhões:\n"
          ]
        }
      ],
      "source": [
        "##### SEU CODIGO COMECA AQUI #####\n",
        "clubes_acima_200milhoes = [clube for clube, resultado in zip(clubes, resultado_liquido_2021) if resultado > 200]\n",
        "\n",
        "print(\"Clubes com resultado líquido acima de 200 milhões:\")\n",
        "for clube in clubes_acima_200milhoes:\n",
        "    print(clube)\n"
      ]
    },
    {
      "cell_type": "markdown",
      "id": "02cdde39",
      "metadata": {
        "id": "02cdde39"
      },
      "source": [
        "**b)** Filtre e print os clubes que possuíram resultado líquido abaixo de 10 milhões."
      ]
    },
    {
      "cell_type": "code",
      "execution_count": null,
      "id": "f1050b56",
      "metadata": {
        "id": "f1050b56",
        "outputId": "8d894d35-75ad-4e84-af2e-917da2cf2d81",
        "colab": {
          "base_uri": "https://localhost:8080/"
        }
      },
      "outputs": [
        {
          "output_type": "stream",
          "name": "stdout",
          "text": [
            "Clubes com resultado líquido abaixo de 10 milhões:\n",
            "Atletico Goianiense\n"
          ]
        }
      ],
      "source": [
        "##### SEU CODIGO COMECA AQUI #####\n",
        "clubes_abaixo_10milhoes = [clube for clube, resultado in zip(clubes, resultado_liquido_2021) if resultado < 10]\n",
        "\n",
        "print(\"Clubes com resultado líquido abaixo de 10 milhões:\")\n",
        "for clube in clubes_abaixo_10milhoes:\n",
        "    print(clube)\n"
      ]
    },
    {
      "cell_type": "markdown",
      "id": "14419f55",
      "metadata": {
        "id": "14419f55"
      },
      "source": [
        "# <font >Exercício 6: Simulação </font>"
      ]
    },
    {
      "cell_type": "markdown",
      "id": "66bd32db",
      "metadata": {
        "id": "66bd32db"
      },
      "source": [
        "**a)** Em 2022, espera-se aumento da receito visto que o público retornou aos estádios. Suponha que haverá um crescimento de 22% da receita em relação a 2021. Crie uma nova array chamada projecao_receita_2022 com esse cálculo. Print tanto a projecao_receita_2022 quanto o somatório da array."
      ]
    },
    {
      "cell_type": "code",
      "execution_count": null,
      "id": "5d2e84dd",
      "metadata": {
        "id": "5d2e84dd",
        "outputId": "708923de-e491-42c5-b2b1-4256505f95f3",
        "colab": {
          "base_uri": "https://localhost:8080/"
        }
      },
      "outputs": [
        {
          "output_type": "stream",
          "name": "stdout",
          "text": [
            "Receita em 2022 (em milhões BRL): [ 124.44  323.3   137.86  617.32   30.5   244.    148.84  170.8    75.64\n",
            "  613.66  107.36   85.4   187.88 1285.88  395.28  208.62   61.    567.3\n",
            "  466.04   82.96 1111.42  355.02  453.84  567.3   114.68  226.92]\n"
          ]
        }
      ],
      "source": [
        "##### SEU CODIGO COMECA AQUI #####\n",
        "receita_2022 = receita_2021 * 1.22\n",
        "\n",
        "print(\"Receita em 2022 (em milhões BRL):\", receita_2022)\n"
      ]
    },
    {
      "cell_type": "markdown",
      "id": "64f8799b",
      "metadata": {
        "id": "64f8799b"
      },
      "source": [
        "**b)** No Brasil, a meta para a inflação é definida pelo Conselho Monetário Nacional (CMN) e cabe ao Banco Central (BC) adotar as medidas necessárias para alcançá-la. O índice de preços utilizado é o Índice Nacional de Preços ao Consumidor Amplo (IPCA), calculado pelo Instituto Brasileiro de Geografia e Estatística (IBGE). A meta se refere à inflação acumulada no ano. Por exemplo, a meta para 2020 foi de uma inflação de 4,00%.\n",
        "\n",
        "Tendo isso em mente, suponha que em 2022 os clubes continuarão com os mesmos custos e despesas, porém, é preciso corrigi-los pela inflação. Crie uma nova array chamada projecao_custos_e_despesas_2022 com esse cálculo. Print tanto a projecao_custos_e_despesas_2022 quanto o somatório da array."
      ]
    },
    {
      "cell_type": "code",
      "execution_count": null,
      "id": "ad4ced08",
      "metadata": {
        "id": "ad4ced08",
        "outputId": "248b9a1b-0026-4906-a999-616fc4122474",
        "colab": {
          "base_uri": "https://localhost:8080/"
        }
      },
      "outputs": [
        {
          "output_type": "stream",
          "name": "stdout",
          "text": [
            "Projeção dos Custos e Despesas em 2022 (em milhões BRL): [  86.1   173.25  118.65  426.3    15.75  189.    107.1   126.     54.6\n",
            "  423.15   81.9    63.    130.2  1001.7   319.2   158.55   42.    383.25\n",
            "  369.6    60.9   851.55  253.05  359.1   425.25   88.2   174.3 ]\n",
            "Somatório dos Custos e Despesas em 2022 (em milhões BRL): 6481.65\n"
          ]
        }
      ],
      "source": [
        "##### SEU CODIGO COMECA AQUI #####\n",
        "taxa_inflacao_2022 = 1.05\n",
        "\n",
        "projecao_custos_e_despesas_2022 = custos_despesas_2021 * taxa_inflacao_2022\n",
        "\n",
        "print(\"Projeção dos Custos e Despesas em 2022 (em milhões BRL):\", projecao_custos_e_despesas_2022)\n",
        "print(\"Somatório dos Custos e Despesas em 2022 (em milhões BRL):\", np.sum(projecao_custos_e_despesas_2022))\n"
      ]
    },
    {
      "cell_type": "markdown",
      "id": "2a846478",
      "metadata": {
        "id": "2a846478"
      },
      "source": [
        "**c)**  Considerando as projeções de receita, custos e despesas, crie uma nova array chamada projecao_resultado_liquido_2022. Print tanto a projecao_resultado_liquido_2022 quanto o somatório da array."
      ]
    },
    {
      "cell_type": "code",
      "execution_count": null,
      "id": "9045889f",
      "metadata": {
        "id": "9045889f",
        "outputId": "fbcbf47a-3994-41f6-e5a1-469b9f00ce2b",
        "colab": {
          "base_uri": "https://localhost:8080/"
        }
      },
      "outputs": [
        {
          "output_type": "stream",
          "name": "stdout",
          "text": [
            "Projeção do Resultado Líquido em 2022 (em milhões BRL): [ 38.34 150.05  19.21 191.02  14.75  55.    41.74  44.8   21.04 190.51\n",
            "  25.46  22.4   57.68 284.18  76.08  50.07  19.   184.05  96.44  22.06\n",
            " 259.87 101.97  94.74 142.05  26.48  52.62]\n",
            "Somatório do Resultado Líquido em 2022 (em milhões BRL): 2281.609999999999\n"
          ]
        }
      ],
      "source": [
        "##### SEU CODIGO COMECA AQUI #####\n",
        "projecao_resultado_liquido_2022 = receita_2022 - projecao_custos_e_despesas_2022\n",
        "\n",
        "print(\"Projeção do Resultado Líquido em 2022 (em milhões BRL):\", projecao_resultado_liquido_2022)\n",
        "print(\"Somatório do Resultado Líquido em 2022 (em milhões BRL):\", np.sum(projecao_resultado_liquido_2022))\n"
      ]
    },
    {
      "cell_type": "markdown",
      "id": "88165041",
      "metadata": {
        "id": "88165041"
      },
      "source": [
        "# <font >Exercício Extra: Investidor anjo </font>"
      ]
    },
    {
      "cell_type": "markdown",
      "id": "f0e20182",
      "metadata": {
        "id": "f0e20182"
      },
      "source": [
        "**a)** Você é um investidor anjo e após analisar a situação financeira dos clubes brasileiros, decide investir nos que estão mais desfavoráveis em relação à média do setor. Para isso, crie e print uma array chamada np_analisar que filtre os clubes da array np_clubes nos quais estão abaixo da média na array resultado_liquido_2021."
      ]
    },
    {
      "cell_type": "code",
      "execution_count": null,
      "id": "8d2f1974",
      "metadata": {
        "id": "8d2f1974",
        "outputId": "004ad33c-a3a7-4aa0-cb0e-8626ec40bc94",
        "colab": {
          "base_uri": "https://localhost:8080/"
        }
      },
      "outputs": [
        {
          "output_type": "stream",
          "name": "stdout",
          "text": [
            "Clubes com resultado líquido abaixo da média em 2021: ['America Mineiro' 'Atletico Goianiense' 'Avai' 'Bahia' 'Botafogo' 'Ceara'\n",
            " 'Chapecoense' 'Coritiba' 'Cuiaba' 'Cruzeiro' 'Fluminense' 'Fortaleza'\n",
            " 'Goias' 'Internacional' 'Juventude' 'Santos' 'Sport' 'Vasco']\n"
          ]
        }
      ],
      "source": [
        "##### SEU CODIGO COMECA AQUI #####\n",
        "media_resultado_liquido_2021 = np.mean(resultado_liquido_2021)\n",
        "\n",
        "clubes_abaixo_da_media = [clube for clube, resultado in zip(clubes, resultado_liquido_2021) if resultado < media_resultado_liquido_2021]\n",
        "\n",
        "np_analisar = np.array(clubes_abaixo_da_media)\n",
        "\n",
        "print(\"Clubes com resultado líquido abaixo da média em 2021:\", np_analisar)"
      ]
    },
    {
      "cell_type": "markdown",
      "id": "f720af8c",
      "metadata": {
        "id": "f720af8c"
      },
      "source": [
        "**b)** Você decide escolher aleatoriamente três times. Crie e print uma array chamada np_analisar_aleatório que selecione sem nenhum critério os clubes da np_analisar."
      ]
    },
    {
      "cell_type": "code",
      "execution_count": null,
      "id": "73bd986b",
      "metadata": {
        "id": "73bd986b",
        "outputId": "8b94368e-689f-4251-c409-808ceba7754f",
        "colab": {
          "base_uri": "https://localhost:8080/"
        }
      },
      "outputs": [
        {
          "output_type": "stream",
          "name": "stdout",
          "text": [
            "Clubes selecionados aleatoriamente para análise: ['Atletico Goianiense', 'Sport', 'Internacional']\n"
          ]
        }
      ],
      "source": [
        "##### SEU CODIGO COMECA AQUI #####\n",
        "import random\n",
        "\n",
        "np_analisar_aleatorio = random.choices(np_analisar, k=3)\n",
        "\n",
        "print(\"Clubes selecionados aleatoriamente para análise:\", np_analisar_aleatorio)\n"
      ]
    },
    {
      "cell_type": "markdown",
      "id": "da0bb6fb",
      "metadata": {
        "id": "da0bb6fb"
      },
      "source": [
        "**c)** Você decide também escolher aleatoriamente os três investimentos. Crie e print uma array chamada np_investimento_aleatório que selecione valores entre 4 e 10 milhões."
      ]
    },
    {
      "cell_type": "code",
      "execution_count": null,
      "id": "8fe7f0b7",
      "metadata": {
        "id": "8fe7f0b7",
        "outputId": "3f1a8288-4992-42a3-ee80-b763ad0663f6",
        "colab": {
          "base_uri": "https://localhost:8080/"
        }
      },
      "outputs": [
        {
          "output_type": "stream",
          "name": "stdout",
          "text": [
            "Valores de investimento selecionados aleatoriamente: [6.959908351711821, 7.085519344354879, 9.661409519430027]\n"
          ]
        }
      ],
      "source": [
        "##### SEU CODIGO COMECA AQUI #####\n",
        "\n",
        "import random\n",
        "\n",
        "np_investimento_aleatorio = [random.uniform(4, 10) for i in range(3)]\n",
        "\n",
        "print(\"Valores de investimento selecionados aleatoriamente:\", np_investimento_aleatorio)\n",
        "\n",
        "\n"
      ]
    },
    {
      "cell_type": "markdown",
      "id": "a8c08811",
      "metadata": {
        "id": "a8c08811"
      },
      "source": [
        "**d)** Por fim, basta printar quais dos três clubes irão receber cada investimento. Utilize da tua criatividade para criar algum tipo de critério."
      ]
    },
    {
      "cell_type": "code",
      "execution_count": null,
      "id": "7eb8b026",
      "metadata": {
        "id": "7eb8b026",
        "outputId": "3b6cc332-ea16-4f76-a124-ec776ef01f4a",
        "colab": {
          "base_uri": "https://localhost:8080/"
        }
      },
      "outputs": [
        {
          "output_type": "stream",
          "name": "stdout",
          "text": [
            "Distribuição dos investimentos:\n",
            "Atletico Goianiense recebe $9.661409519430027 milhões\n",
            "Sport recebe $7.085519344354879 milhões\n",
            "Atletico Goianiense recebe $6.959908351711821 milhões\n"
          ]
        }
      ],
      "source": [
        "##### SEU CODIGO COMECA AQUI #####\n",
        "\n",
        "# Resposta aberta. A forma mais simples seria utilizar a ordem das próprias arrays\n",
        "indices_clubes_aleatorios = [clubes.index(clube) for clube in np_analisar_aleatorio]\n",
        "\n",
        "resultados_liquidos_selecionados = [resultado_liquido_2021[indice] for indice in indices_clubes_aleatorios]\n",
        "\n",
        "indice_mais_negativo = resultados_liquidos_selecionados.index(min(resultados_liquidos_selecionados))\n",
        "\n",
        "indice_mediano = resultados_liquidos_selecionados.index(sorted(resultados_liquidos_selecionados)[len(resultados_liquidos_selecionados) // 2])\n",
        "\n",
        "investimento_maior = max(np_investimento_aleatorio)\n",
        "investimento_medio = sorted(np_investimento_aleatorio)[1]\n",
        "investimento_menor = min(np_investimento_aleatorio)\n",
        "\n",
        "print(\"Distribuição dos investimentos:\")\n",
        "print(np_analisar_aleatorio[indice_mais_negativo] + \" recebe $\" + str(investimento_maior) + \" milhões\")\n",
        "print(np_analisar_aleatorio[indice_mediano] + \" recebe $\" + str(investimento_medio) + \" milhões\")\n",
        "print(np_analisar_aleatorio[indice_mais_negativo] + \" recebe $\" + str(investimento_menor) + \" milhões\")\n",
        "\n"
      ]
    }
  ],
  "metadata": {
    "kernelspec": {
      "display_name": "Python 3.10.4 64-bit",
      "language": "python",
      "name": "python3"
    },
    "language_info": {
      "codemirror_mode": {
        "name": "ipython",
        "version": 3
      },
      "file_extension": ".py",
      "mimetype": "text/x-python",
      "name": "python",
      "nbconvert_exporter": "python",
      "pygments_lexer": "ipython3",
      "version": "3.10.4"
    },
    "vscode": {
      "interpreter": {
        "hash": "0255b2a1a85d95e539a3d37cbfeda14c0a475ccd427586120269d64df835fd1d"
      }
    },
    "colab": {
      "provenance": []
    }
  },
  "nbformat": 4,
  "nbformat_minor": 5
}