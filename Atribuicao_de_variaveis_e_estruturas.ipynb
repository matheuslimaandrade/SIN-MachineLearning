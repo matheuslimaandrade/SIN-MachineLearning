{
  "cells": [
    {
      "cell_type": "markdown",
      "id": "01ddbbc7",
      "metadata": {
        "id": "01ddbbc7"
      },
      "source": [
        "# Para todas as questões abaixo comente o que você está fazendo no código"
      ]
    },
    {
      "cell_type": "markdown",
      "id": "d828cc4f",
      "metadata": {
        "id": "d828cc4f"
      },
      "source": [
        "Questão 1: Crie um conversor de real em dólares. Imprima o resultado usando a função format."
      ]
    },
    {
      "cell_type": "code",
      "execution_count": 1,
      "id": "b415317b",
      "metadata": {
        "id": "b415317b",
        "outputId": "bd8a3b8d-6180-4a07-f0ce-185ddc24a594",
        "colab": {
          "base_uri": "https://localhost:8080/",
          "height": 332
        }
      },
      "outputs": [
        {
          "name": "stdout",
          "output_type": "stream",
          "text": [
            "dollar10\n",
            "reais: 1-\n"
          ]
        },
        {
          "output_type": "error",
          "ename": "TypeError",
          "evalue": "can't multiply sequence by non-int of type 'str'",
          "traceback": [
            "\u001b[0;31m---------------------------------------------------------------------------\u001b[0m",
            "\u001b[0;31mTypeError\u001b[0m                                 Traceback (most recent call last)",
            "\u001b[0;32m<ipython-input-1-c352e01fc54c>\u001b[0m in \u001b[0;36m<cell line: 7>\u001b[0;34m()\u001b[0m\n\u001b[1;32m      5\u001b[0m \u001b[0mreais\u001b[0m \u001b[0;34m=\u001b[0m \u001b[0minput\u001b[0m\u001b[0;34m(\u001b[0m\u001b[0;34m\"reais: \"\u001b[0m\u001b[0;34m)\u001b[0m\u001b[0;34m\u001b[0m\u001b[0;34m\u001b[0m\u001b[0m\n\u001b[1;32m      6\u001b[0m \u001b[0;34m\u001b[0m\u001b[0m\n\u001b[0;32m----> 7\u001b[0;31m \u001b[0mprint\u001b[0m\u001b[0;34m(\u001b[0m\u001b[0mconverter\u001b[0m\u001b[0;34m(\u001b[0m\u001b[0mdollar\u001b[0m\u001b[0;34m,\u001b[0m \u001b[0mreais\u001b[0m\u001b[0;34m)\u001b[0m\u001b[0;34m)\u001b[0m\u001b[0;34m\u001b[0m\u001b[0;34m\u001b[0m\u001b[0m\n\u001b[0m",
            "\u001b[0;32m<ipython-input-1-c352e01fc54c>\u001b[0m in \u001b[0;36mconverter\u001b[0;34m(dollar, reais)\u001b[0m\n\u001b[1;32m      1\u001b[0m \u001b[0;32mdef\u001b[0m \u001b[0mconverter\u001b[0m\u001b[0;34m(\u001b[0m\u001b[0mdollar\u001b[0m\u001b[0;34m,\u001b[0m \u001b[0mreais\u001b[0m\u001b[0;34m)\u001b[0m\u001b[0;34m:\u001b[0m\u001b[0;34m\u001b[0m\u001b[0;34m\u001b[0m\u001b[0m\n\u001b[0;32m----> 2\u001b[0;31m   \u001b[0;32mreturn\u001b[0m \u001b[0mreais\u001b[0m\u001b[0;34m*\u001b[0m\u001b[0mdollar\u001b[0m\u001b[0;34m\u001b[0m\u001b[0;34m\u001b[0m\u001b[0m\n\u001b[0m\u001b[1;32m      3\u001b[0m \u001b[0;34m\u001b[0m\u001b[0m\n\u001b[1;32m      4\u001b[0m \u001b[0mdollar\u001b[0m \u001b[0;34m=\u001b[0m \u001b[0minput\u001b[0m\u001b[0;34m(\u001b[0m\u001b[0;34m\"dollar\"\u001b[0m\u001b[0;34m)\u001b[0m\u001b[0;34m\u001b[0m\u001b[0;34m\u001b[0m\u001b[0m\n\u001b[1;32m      5\u001b[0m \u001b[0mreais\u001b[0m \u001b[0;34m=\u001b[0m \u001b[0minput\u001b[0m\u001b[0;34m(\u001b[0m\u001b[0;34m\"reais: \"\u001b[0m\u001b[0;34m)\u001b[0m\u001b[0;34m\u001b[0m\u001b[0;34m\u001b[0m\u001b[0m\n",
            "\u001b[0;31mTypeError\u001b[0m: can't multiply sequence by non-int of type 'str'"
          ]
        }
      ],
      "source": [
        "def converter(dollar, reais):\n",
        "  return reais*dollar\n",
        "\n",
        "dollar = input(\"dollar\")\n",
        "reais = input(\"reais: \")\n",
        "\n",
        "print(converter(dollar, reais))"
      ]
    },
    {
      "cell_type": "markdown",
      "id": "c2e76171",
      "metadata": {
        "id": "c2e76171"
      },
      "source": [
        "Questão 2:Crie um sistema que imprima o valor que você vai pagar e o desconto que você teria em determinado item do supermercado. Imprima concatenando."
      ]
    },
    {
      "cell_type": "code",
      "execution_count": null,
      "id": "ddb842a5",
      "metadata": {
        "id": "ddb842a5",
        "outputId": "57d4462b-2381-4b7c-e5d2-49738b1763e4",
        "colab": {
          "base_uri": "https://localhost:8080/"
        }
      },
      "outputs": [
        {
          "output_type": "stream",
          "name": "stdout",
          "text": [
            "100\n",
            "25\n",
            "valor: 100.0 desconto: 25.0\n",
            "valor final: 75.0\n"
          ]
        }
      ],
      "source": [
        "valor = float(input())\n",
        "desconto = float(input())\n",
        "valor_desconto = valor - (valor * (desconto/100))\n",
        "print(f\"valor: {valor} desconto: {desconto}\")\n",
        "print(f\"valor final: {valor_desconto}\")"
      ]
    },
    {
      "cell_type": "markdown",
      "id": "d09d1e38",
      "metadata": {
        "id": "d09d1e38"
      },
      "source": [
        "Questão 3: Você chegou na última questão da Fuvest, e se você acertar essa você entra na USP.\n",
        "A questão diz o seguinte:\n",
        "Faça as operações abaixo usando os operadores e imprima o resultado delas:\n",
        "-    2 multiplicado por 3\n",
        "-    2 adicionado a 65\n",
        "-    5 dividido por 10\n",
        "-   O resto da divisão de 4 por 3\n",
        "-    Subtrair 4 de 10\n",
        "-    2 elevado a 4\n",
        "-    A parte inteira do resultado de 10 dividido por 3\n",
        "-    A raíz quadrada de 4\n"
      ]
    },
    {
      "cell_type": "code",
      "execution_count": null,
      "id": "1ea606e8",
      "metadata": {
        "id": "1ea606e8",
        "outputId": "c55cf284-74d6-4863-95e2-a6094b356727",
        "colab": {
          "base_uri": "https://localhost:8080/"
        }
      },
      "outputs": [
        {
          "output_type": "stream",
          "name": "stdout",
          "text": [
            "\n",
            "\n",
            "\n",
            "\n",
            "\n",
            "\n",
            "\n",
            "\n",
            "\n",
            "\n",
            "\n"
          ]
        }
      ],
      "source": [
        "print(2*3)\n",
        "print(2+65)\n",
        "print(5/10)\n",
        "print(4%3)\n",
        "print(4-10)\n",
        "print(2**4)\n",
        "print(int(10/3))"
      ]
    },
    {
      "cell_type": "markdown",
      "id": "2a1c24f2",
      "metadata": {
        "id": "2a1c24f2"
      },
      "source": [
        "Questão 4: Você está correndo risco de ser jubilado, então, precisa escrever uma carta para o reitor com seus dados pessoais:nome,idade,curso e ano de ingresso, para suplicar pela sua estadia na USP. Use seus dados como variáveis e os imprima:"
      ]
    },
    {
      "cell_type": "code",
      "execution_count": null,
      "id": "fdbc24fe",
      "metadata": {
        "id": "fdbc24fe",
        "colab": {
          "base_uri": "https://localhost:8080/"
        },
        "outputId": "77af332e-6cd4-410f-875a-f240a05572fc"
      },
      "outputs": [
        {
          "output_type": "stream",
          "name": "stdout",
          "text": [
            "name: 2\n",
            "age: 2\n",
            "course: 2\n",
            "entry year: 2\n",
            "Os seus dados pessoais são: ['2', 2, '2', 2]\n"
          ]
        }
      ],
      "source": [
        "letter = []\n",
        "name = str(input(\"name: \"))\n",
        "age = int(input(\"age: \"))\n",
        "course = str(input(\"course: \"))\n",
        "entry_year = int(input(\"entry year: \"))\n",
        "\n",
        "for i in (name,age,course,entry_year):\n",
        "  letter.append(i)\n",
        "\n",
        "print(f\"Os seus dados pessoais são: {letter}\")\n"
      ]
    },
    {
      "cell_type": "markdown",
      "id": "8cdae94d",
      "metadata": {
        "id": "8cdae94d"
      },
      "source": [
        "Questão 5:Calcule a função abaixo:\n",
        "1. 4a^2+5b a=5 b=3\n",
        "2. 4a-(3b)/2 a=92 b=76"
      ]
    },
    {
      "cell_type": "code",
      "execution_count": null,
      "id": "89c6d2ff",
      "metadata": {
        "id": "89c6d2ff",
        "colab": {
          "base_uri": "https://localhost:8080/"
        },
        "outputId": "28a715e5-9351-457e-b1a3-f26594bd6d20"
      },
      "outputs": [
        {
          "output_type": "stream",
          "name": "stdout",
          "text": [
            "115\n",
            "254.0\n"
          ]
        }
      ],
      "source": [
        "print((4*(5**2))+5*3)\n",
        "print(4*92-(3*76/2))"
      ]
    },
    {
      "cell_type": "markdown",
      "id": "bfd4096f",
      "metadata": {
        "id": "bfd4096f"
      },
      "source": [
        "Questão 5: Hoje é seu dia de sorte, seu chefe falou que você e todos os outros estagiários vão ter um aumento de 7,3% nos salários. Faça um programa que mostre automaticamente o valor do salário com o aumento quando o estagiário inserir o quanto ganha atualmente."
      ]
    },
    {
      "cell_type": "code",
      "execution_count": null,
      "id": "b10e3513",
      "metadata": {
        "id": "b10e3513",
        "colab": {
          "base_uri": "https://localhost:8080/"
        },
        "outputId": "ca26a2eb-a8f7-4b77-9454-9016375d908f"
      },
      "outputs": [
        {
          "output_type": "stream",
          "name": "stdout",
          "text": [
            "salary:1000\n",
            "1073.0\n"
          ]
        }
      ],
      "source": [
        "salary = float(input(\"salary:\"))\n",
        "salary_increase = 7.3/100\n",
        "new_salary = salary*salary_increase + salary\n",
        "print(new_salary)"
      ]
    },
    {
      "cell_type": "markdown",
      "id": "444bf6ca",
      "metadata": {
        "id": "444bf6ca"
      },
      "source": [
        "Questão 6: Agora, você vai fazer uma calculadora, na qual o usuário insere 2 números, e você precisa imprimir, usando a função format, a soma, subtração, divisão e seu resto.(números inteiros)"
      ]
    },
    {
      "cell_type": "code",
      "execution_count": null,
      "id": "504ad475",
      "metadata": {
        "id": "504ad475",
        "colab": {
          "base_uri": "https://localhost:8080/"
        },
        "outputId": "9b1f253f-52e2-490e-c6e5-18a76554e488"
      },
      "outputs": [
        {
          "output_type": "stream",
          "name": "stdout",
          "text": [
            "x: 2\n",
            "y: 2\n",
            "sum:4, sub:0, mult:4, div:1.0, mod:0\n"
          ]
        }
      ],
      "source": [
        "x = int(input(\"x: \"))\n",
        "y = int(input(\"y: \"))\n",
        "\n",
        "print(f\"sum: {x+y}, sub:{x-y}, mult:{x*y}, div:{x/y}, mod:{x%y}\")"
      ]
    },
    {
      "cell_type": "markdown",
      "id": "2c6ecac5",
      "metadata": {
        "id": "2c6ecac5"
      },
      "source": [
        "Questão 7:Você está preparando um evento para o seu instituto e precisa fazer uma ficha de cadastro. Nele a pessoa vai ter que inserir nome, altura, comida predileta,e idade(só números)."
      ]
    },
    {
      "cell_type": "code",
      "execution_count": null,
      "id": "4fade6c5",
      "metadata": {
        "id": "4fade6c5",
        "colab": {
          "base_uri": "https://localhost:8080/"
        },
        "outputId": "e65960bf-f723-41f9-eff0-87aba7fe233c"
      },
      "outputs": [
        {
          "output_type": "stream",
          "name": "stdout",
          "text": [
            "name: matheus\n",
            "height: 170\n",
            "favorite food: morango\n",
            "age: 20\n",
            "['matheus', '170', 'morango', 20]\n"
          ]
        }
      ],
      "source": [
        "sign_up = []\n",
        "name = input(\"name: \")\n",
        "height = input(\"height: \")\n",
        "favorite_food = input(\"favorite food: \")\n",
        "age = int(input(\"age: \"))\n",
        "\n",
        "for i in (name, height, favorite_food, age):\n",
        "  sign_up.append(i)\n",
        "\n",
        "print(sign_up)\n",
        "\n",
        "\n"
      ]
    },
    {
      "cell_type": "markdown",
      "id": "3c38647c",
      "metadata": {
        "id": "3c38647c"
      },
      "source": [
        "Questão 8:Faça um programa que leia um número inteiro e mostre seu sucessor e seu antecessor."
      ]
    },
    {
      "cell_type": "code",
      "execution_count": null,
      "id": "c35fd4bb",
      "metadata": {
        "id": "c35fd4bb",
        "colab": {
          "base_uri": "https://localhost:8080/"
        },
        "outputId": "139c5ca2-06f0-402c-81e2-a720ca403087"
      },
      "outputs": [
        {
          "output_type": "stream",
          "name": "stdout",
          "text": [
            "x: 12\n",
            "(13, 11)\n"
          ]
        }
      ],
      "source": [
        "def next_and_previous(x):\n",
        "  return x+1,x-1\n",
        "\n",
        "x = int(input(\"x: \"))\n",
        "print(next_and_previous(x))"
      ]
    },
    {
      "cell_type": "markdown",
      "id": "2f2cf42c",
      "metadata": {
        "id": "2f2cf42c"
      },
      "source": [
        "Questão 9: Escreva um programa que calcule a quantidade de latas de tintas\n",
        "necessárias e o custo para pintar tanques cilíndricos de combustível,\n",
        "em que são fornecidos a altura e o raio desse cilindro. Sabe-se que a\n",
        "lata de tinta custa R$50,00; cada lata contém 5 litros e cada litro de\n",
        "tinta pinta 3 m2\n",
        "Area do Cilindro = 2.pi.r.(h+r)(área lateral e as 2 bases)(considere pi=3)\n"
      ]
    },
    {
      "cell_type": "code",
      "execution_count": null,
      "id": "0fba5eed",
      "metadata": {
        "id": "0fba5eed"
      },
      "outputs": [],
      "source": []
    },
    {
      "cell_type": "markdown",
      "id": "6ce3458e",
      "metadata": {
        "id": "6ce3458e"
      },
      "source": [
        "Questão 10: Escreva um programa que peça para o usuário inserir a quantidade de dias que ele irá viajar com o carro e a quantidade de km que ele irá percorrer. Calcule o quanto ele irá pagar, sabendo que o preço por dia de aluguel é 85 reais e 0,35 centavos por km rodado."
      ]
    },
    {
      "cell_type": "code",
      "execution_count": null,
      "id": "c3adc408",
      "metadata": {
        "id": "c3adc408",
        "colab": {
          "base_uri": "https://localhost:8080/"
        },
        "outputId": "51be91b3-c3fa-419d-f4de-ee0d1fe465ef"
      },
      "outputs": [
        {
          "output_type": "stream",
          "name": "stdout",
          "text": [
            "days: 1\n",
            "distance: 10\n",
            "88.5\n"
          ]
        }
      ],
      "source": [
        "def travell_plan(days, distance):\n",
        "  hotel = 85\n",
        "  km_price = 0.35\n",
        "  cost = int(days) * hotel + km_price * float(distance)\n",
        "  return cost\n",
        "\n",
        "days = input(\"days: \")\n",
        "distance = input(\"distance: \")\n",
        "\n",
        "print(travell_plan(days, distance))"
      ]
    },
    {
      "cell_type": "markdown",
      "id": "0376787d",
      "metadata": {
        "id": "0376787d"
      },
      "source": [
        "Questão 11: Escreva um programa que leia um número que exiba sua parte inteira."
      ]
    },
    {
      "cell_type": "code",
      "execution_count": null,
      "id": "d1d48d68",
      "metadata": {
        "id": "d1d48d68",
        "colab": {
          "base_uri": "https://localhost:8080/"
        },
        "outputId": "19ecfd6d-3ce6-4ef9-d82f-5205d62dc074"
      },
      "outputs": [
        {
          "output_type": "stream",
          "name": "stdout",
          "text": [
            "x12.2\n",
            "12\n"
          ]
        }
      ],
      "source": [
        "def number_integer(x):\n",
        "  return int(x)\n",
        "\n",
        "x = float(input(\"x\"))\n",
        "print(number_integer(x))"
      ]
    },
    {
      "cell_type": "markdown",
      "id": "9aeddde4",
      "metadata": {
        "id": "9aeddde4"
      },
      "source": [
        "Questão 12: Encontre o tipo das seguintes variáveis, usando a função type(). Imprima o resultado com print(f.\n",
        "Amanda\n",
        "12\n",
        "12.4\n"
      ]
    },
    {
      "cell_type": "code",
      "execution_count": null,
      "id": "e2f0adfb",
      "metadata": {
        "id": "e2f0adfb",
        "colab": {
          "base_uri": "https://localhost:8080/"
        },
        "outputId": "2af32386-3385-47ce-d269-e870518b3d8c"
      },
      "outputs": [
        {
          "output_type": "stream",
          "name": "stdout",
          "text": [
            "(<class 'str'>, <class 'int'>, <class 'float'>)\n"
          ]
        }
      ],
      "source": [
        "x = \"Amanda\"\n",
        "y = 12\n",
        "z = 12.4\n",
        "\n",
        "print(f\"{type(x), type(y), type(z)}\")"
      ]
    },
    {
      "cell_type": "markdown",
      "id": "327493cd",
      "metadata": {
        "id": "327493cd"
      },
      "source": [
        "Questão 13:Você vai fazer intercâmbio nos Eua, e quer saber se você tem que levar muitas roupas de frio.\n",
        "\n",
        "a)então precisa fazer um conversor de temperatura de fahrenheit para celsius\n"
      ]
    },
    {
      "cell_type": "code",
      "execution_count": null,
      "id": "80645449",
      "metadata": {
        "id": "80645449"
      },
      "outputs": [],
      "source": [
        "def temperature_calc(fahrenheit):\n",
        "  celsius = ((fahrenheit-32) * 5/9)\n",
        "  return celsius\n",
        "\n",
        "fahrenheit = float(input(\"fahrenheit temperature: \"))\n",
        "print(temperature_calc(fahrenheit))"
      ]
    },
    {
      "cell_type": "markdown",
      "id": "fa24c31f",
      "metadata": {
        "id": "fa24c31f"
      },
      "source": [
        "b)Agora, suponha que a temperatura convertida é um número com vírgula, arredonde ele com a função round."
      ]
    },
    {
      "cell_type": "code",
      "execution_count": null,
      "id": "b170cf6c",
      "metadata": {
        "id": "b170cf6c",
        "colab": {
          "base_uri": "https://localhost:8080/"
        },
        "outputId": "f13e1d76-d6fd-4ed8-8f12-05722bcc0c52"
      },
      "outputs": [
        {
          "output_type": "stream",
          "name": "stdout",
          "text": [
            "fahrenheit temperature: 100\n",
            "38\n"
          ]
        }
      ],
      "source": [
        "def temperature_calc(fahrenheit):\n",
        "  celsius = ((fahrenheit-32) * 5/9)\n",
        "  return round(celsius)\n",
        "\n",
        "fahrenheit = float(input(\"fahrenheit temperature: \"))\n",
        "print(temperature_calc(fahrenheit))"
      ]
    },
    {
      "cell_type": "markdown",
      "id": "60427fa0",
      "metadata": {
        "id": "60427fa0"
      },
      "source": [
        "Questão 14: Faça um programa que mostre se a cidade inserida começa com \"SANTO\" ou não.\n",
        "    "
      ]
    },
    {
      "cell_type": "code",
      "execution_count": null,
      "id": "1e269cd1",
      "metadata": {
        "id": "1e269cd1",
        "colab": {
          "base_uri": "https://localhost:8080/"
        },
        "outputId": "cd628e7e-2722-4246-9d39-ba1192ba2fb3"
      },
      "outputs": [
        {
          "output_type": "stream",
          "name": "stdout",
          "text": [
            "citymatheus\n",
            "not 'SANTO'\n"
          ]
        }
      ],
      "source": [
        "def city_verify(city, city_prefix):\n",
        "  n = len(city_prefix)\n",
        "  if n > len(city):\n",
        "    return False\n",
        "  for i in range(n):\n",
        "    if city[i] != city_prefix[i]:\n",
        "      return False\n",
        "  return True, print()\n",
        "\n",
        "city = input(\"city\").upper()\n",
        "city_prefix = \"SANTO\"\n",
        "city_verify(city,city_prefix)\n",
        "\n",
        "if city_verify(city, city_prefix):\n",
        "  print(city)\n",
        "else:\n",
        "  print(\"not 'SANTO'\")\n"
      ]
    },
    {
      "cell_type": "markdown",
      "id": "4fa1e207",
      "metadata": {
        "id": "4fa1e207"
      },
      "source": [
        "Questão 15:Escreva um programa que leia o nome completo de uma pessoa e mostre:\n",
        "        -O nome com todas as letras maiúsculas e minúsculas\n",
        "        -Quantas letras ao todo sem contar os espaços\n",
        "        -Quantas letras tem o primeiro nome"
      ]
    },
    {
      "cell_type": "code",
      "execution_count": null,
      "id": "e1bb43cb",
      "metadata": {
        "id": "e1bb43cb",
        "colab": {
          "base_uri": "https://localhost:8080/"
        },
        "outputId": "2c02b1ec-66c6-4358-86e6-5520fa6da62e"
      },
      "outputs": [
        {
          "output_type": "stream",
          "name": "stdout",
          "text": [
            "first nameMatheus Lima\n",
            "nameAndrade\n",
            "('Matheus Lima Andrade', 7, 11)\n"
          ]
        }
      ],
      "source": [
        "def check_name(first_name, name):\n",
        "  full_name = first_name + \" \" + name\n",
        "  return full_name, len(name), len(first_name.replace(\" \", ''))\n",
        "\n",
        "first_name = input(\"first name\")\n",
        "name = input(\"name\")\n",
        "print(check_name(first_name, name))"
      ]
    },
    {
      "cell_type": "markdown",
      "id": "2094f174",
      "metadata": {
        "id": "2094f174"
      },
      "source": [
        "Questão 16: Você quer achar seus parentes da família \"Soares\". Então, faça um programa que detecte se o nome inserido é da sua família."
      ]
    },
    {
      "cell_type": "code",
      "execution_count": null,
      "id": "4618ae4a",
      "metadata": {
        "id": "4618ae4a",
        "colab": {
          "base_uri": "https://localhost:8080/"
        },
        "outputId": "cbccf586-ea56-4784-e368-d87717298571"
      },
      "outputs": [
        {
          "output_type": "stream",
          "name": "stdout",
          "text": [
            "name: eai bb\n",
            "None\n"
          ]
        }
      ],
      "source": [
        "def check_parents(name):\n",
        "  if \"Soares\".upper() in name.upper():\n",
        "    return name.upper()\n",
        "\n",
        "name = input(\"name: \")\n",
        "print(check_parents(name))"
      ]
    },
    {
      "cell_type": "markdown",
      "id": "80d66cd3",
      "metadata": {
        "id": "80d66cd3"
      },
      "source": [
        "Questão 17:Você está indo para o interusp, e está fazendo a lista dos 5 objetos mais importantes:bota,protetor-solar,camisinha,shorts e desodorante.\n",
        "a)Você se lembrou que as tattoos são mais importantes que o proteto-solar. Retire o protetor da lista e adicione as tattoos."
      ]
    },
    {
      "cell_type": "markdown",
      "source": [],
      "metadata": {
        "id": "dKHHLXYdNLda"
      },
      "id": "dKHHLXYdNLda"
    },
    {
      "cell_type": "code",
      "execution_count": null,
      "id": "9781c566",
      "metadata": {
        "id": "9781c566",
        "colab": {
          "base_uri": "https://localhost:8080/"
        },
        "outputId": "5e5cbb1e-03d4-464b-bfaf-6f7a8f3dc0cb"
      },
      "outputs": [
        {
          "output_type": "stream",
          "name": "stdout",
          "text": [
            "['bota', 'tatoos', 'camisinha', 'shorts', 'desodorante']\n"
          ]
        }
      ],
      "source": [
        "list = [\"bota\", \"protetor-solar\", \"camisinha\", \"shorts\", \"desodorante\"]\n",
        "list[1] = \"tatoos\"\n",
        "print(list)"
      ]
    },
    {
      "cell_type": "markdown",
      "id": "d38c2ac4",
      "metadata": {
        "id": "d38c2ac4"
      },
      "source": [
        "b)Além disso, você gosta de listas organizadas por ordem alfabética, coloque-as como tal, e imprima o índice do item 'desodorante'."
      ]
    },
    {
      "cell_type": "code",
      "execution_count": null,
      "id": "b8f866f2",
      "metadata": {
        "id": "b8f866f2",
        "colab": {
          "base_uri": "https://localhost:8080/"
        },
        "outputId": "1cad6f4f-fd7a-42aa-92c2-d428d5bff959"
      },
      "outputs": [
        {
          "output_type": "stream",
          "name": "stdout",
          "text": [
            "['bota', 'camisinha', 'desodorante', 'shorts', 'tatoos']\n"
          ]
        }
      ],
      "source": [
        "list.sort()\n",
        "print(list)"
      ]
    },
    {
      "cell_type": "markdown",
      "id": "97eaf882",
      "metadata": {
        "id": "97eaf882"
      },
      "source": [
        "Questão 18:Chegou o final do semestre e você tem suas notas 7,9.5,8.0,2.0,1.0,3.0. Imprima sua nota máxima, mínima e a soma delas."
      ]
    },
    {
      "cell_type": "code",
      "execution_count": null,
      "id": "4adec086",
      "metadata": {
        "id": "4adec086",
        "colab": {
          "base_uri": "https://localhost:8080/"
        },
        "outputId": "092dee4e-871e-4263-9df9-1fb4e285fe7e"
      },
      "outputs": [
        {
          "output_type": "stream",
          "name": "stdout",
          "text": [
            "(0.1, 7.9)\n"
          ]
        }
      ],
      "source": [
        "def min_max(list):\n",
        "  list.sort()\n",
        "  return list[0], list[-1]\n",
        "\n",
        "list = [7.9, 5.8, 0.2, 0.1, 3.0]\n",
        "print(min_max(list))\n",
        "\n"
      ]
    },
    {
      "cell_type": "markdown",
      "id": "5205ead5",
      "metadata": {
        "id": "5205ead5"
      },
      "source": [
        "Questão 19: Chegando a Copa do mundo, é importante saber as 10 melhores seleções do mundo rankeadas pela FIFA:\n",
        "'Brasil','Belgica','Argentina','França','Iglaterra','Italia','Holanda','Espanha','Portugal','Alemanha'.Sabendo disso, extraia:\n",
        "        a)Os 2 primeiros colocados\n",
        "        b)os últimos 4 colocados\n",
        "        c)Em que posição está o nosso rival 'Argentina'"
      ]
    },
    {
      "cell_type": "code",
      "execution_count": null,
      "id": "7aeed7e6",
      "metadata": {
        "id": "7aeed7e6",
        "colab": {
          "base_uri": "https://localhost:8080/"
        },
        "outputId": "8bd41d90-45b4-417c-c5d7-dd5bd150c862"
      },
      "outputs": [
        {
          "output_type": "stream",
          "name": "stdout",
          "text": [
            "['Brasil', 'Belgica']\n",
            "['Italia', 'Holanda', 'Espanha', 'Portugal', 'Alemanha']\n",
            "2\n"
          ]
        }
      ],
      "source": [
        "list = ['Brasil','Belgica','Argentina','França','Iglaterra','Italia','Holanda','Espanha','Portugal','Alemanha']\n",
        "\n",
        "print(list[0:2])\n",
        "print(list[5:])\n",
        "print(list.index(\"Argentina\"))\n"
      ]
    },
    {
      "cell_type": "markdown",
      "id": "7990e715",
      "metadata": {
        "id": "7990e715"
      },
      "source": [
        "Questão 20:Faça um dicionário com os seguintes dados cadastrais dos alunos da Usp\n",
        "    Nome - Juliano\n",
        "    idade - 20 anos\n",
        "    Instituto - ECA\n",
        "    "
      ]
    },
    {
      "cell_type": "code",
      "execution_count": null,
      "id": "66c3bc17",
      "metadata": {
        "id": "66c3bc17"
      },
      "outputs": [],
      "source": [
        "dic = {\n",
        "    \"nome\": \"Juliano\",\n",
        "    \"idade\": \"20 anos\",\n",
        "    \"instituto\": \"ECA\"\n",
        "    }"
      ]
    },
    {
      "cell_type": "markdown",
      "id": "9f98d738",
      "metadata": {
        "id": "9f98d738"
      },
      "source": [
        "b) Agora você vai precisar fazer algumas alterações\n",
        "    1. Mude o nome de Juliano para Pedro\n",
        "    2.Adicione mais um campo 'Ano de ingresso - 2019'\n",
        "    3.Imprima só o ano de ingresso do aluno(só o valor)\n",
        "    4.Imprima todo o dicionário"
      ]
    },
    {
      "cell_type": "code",
      "execution_count": null,
      "id": "b33a6987",
      "metadata": {
        "id": "b33a6987"
      },
      "outputs": [],
      "source": [
        "dic[\"nome\"] = \"Pedro\"\n",
        "dic[\"ano de ingresso\"] = \"2019\"\n",
        "\n",
        "print(dic[\"ano de ingresso\"])\n",
        "print(dic)"
      ]
    }
  ],
  "metadata": {
    "kernelspec": {
      "display_name": "Python 3 (ipykernel)",
      "language": "python",
      "name": "python3"
    },
    "language_info": {
      "codemirror_mode": {
        "name": "ipython",
        "version": 3
      },
      "file_extension": ".py",
      "mimetype": "text/x-python",
      "name": "python",
      "nbconvert_exporter": "python",
      "pygments_lexer": "ipython3",
      "version": "3.9.12"
    },
    "colab": {
      "provenance": []
    }
  },
  "nbformat": 4,
  "nbformat_minor": 5
}