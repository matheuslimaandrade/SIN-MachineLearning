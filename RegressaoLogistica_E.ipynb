{
  "cells": [
    {
      "cell_type": "markdown",
      "metadata": {
        "id": "80CF3Eq9EXDW"
      },
      "source": [
        "\n",
        "<img src=\"https://portal.unicap.br/image/layout_set_logo?img_id=2214787&t=1657846438895\" width=300, align=\"right\">\n",
        "<!-- <h1 align=left><font size = 6, style=\"color:rgb(200,0,0)\"> optional title </font></h1> -->\n"
      ]
    },
    {
      "cell_type": "markdown",
      "metadata": {
        "id": "g1Hap25KEXDX"
      },
      "source": [
        "# **3. Classificação: Regressão Logística**\n",
        "---\n",
        "\n",
        "Após fazer os exercícios deste laboratório responda ao **questionário correspondente da aula no Moodle**.\n",
        "\n"
      ]
    },
    {
      "cell_type": "markdown",
      "metadata": {
        "id": "9898hEksOPD_"
      },
      "source": [
        "## Relembrando aqui...\n",
        "\n",
        "Abaixo você pode rever o esquema geral de aplicação do modelo logístico."
      ]
    },
    {
      "cell_type": "code",
      "execution_count": 3,
      "metadata": {
        "id": "9_7mcJXbFnyU",
        "colab": {
          "base_uri": "https://localhost:8080/",
          "height": 211
        },
        "outputId": "a9179325-4587-49fa-93a1-15559e894cfa"
      },
      "outputs": [
        {
          "output_type": "error",
          "ename": "NameError",
          "evalue": "name 'df' is not defined",
          "traceback": [
            "\u001b[0;31m---------------------------------------------------------------------------\u001b[0m",
            "\u001b[0;31mNameError\u001b[0m                                 Traceback (most recent call last)",
            "\u001b[0;32m<ipython-input-3-f94555a54867>\u001b[0m in \u001b[0;36m<cell line: 5>\u001b[0;34m()\u001b[0m\n\u001b[1;32m      3\u001b[0m \u001b[0;34m\u001b[0m\u001b[0m\n\u001b[1;32m      4\u001b[0m \u001b[0;31m# separando variável dependente e independentes\u001b[0m\u001b[0;34m\u001b[0m\u001b[0;34m\u001b[0m\u001b[0m\n\u001b[0;32m----> 5\u001b[0;31m \u001b[0mx\u001b[0m \u001b[0;34m=\u001b[0m \u001b[0mdf\u001b[0m\u001b[0;34m.\u001b[0m\u001b[0mdrop\u001b[0m\u001b[0;34m(\u001b[0m\u001b[0;34m'y'\u001b[0m\u001b[0;34m,\u001b[0m\u001b[0maxis\u001b[0m\u001b[0;34m=\u001b[0m\u001b[0;36m1\u001b[0m\u001b[0;34m)\u001b[0m\u001b[0;34m\u001b[0m\u001b[0;34m\u001b[0m\u001b[0m\n\u001b[0m\u001b[1;32m      6\u001b[0m \u001b[0my\u001b[0m \u001b[0;34m=\u001b[0m \u001b[0mdf\u001b[0m\u001b[0;34m[\u001b[0m\u001b[0;34m'y'\u001b[0m\u001b[0;34m]\u001b[0m\u001b[0;34m\u001b[0m\u001b[0;34m\u001b[0m\u001b[0m\n\u001b[1;32m      7\u001b[0m \u001b[0;34m\u001b[0m\u001b[0m\n",
            "\u001b[0;31mNameError\u001b[0m: name 'df' is not defined"
          ]
        }
      ],
      "source": [
        "%%script false\n",
        "from sklearn.model_selection import train_test_split\n",
        "from sklearn.linear_model import LogisticRegression\n",
        "\n",
        "# separando variável dependente e independentes\n",
        "x = df.drop('y',axis=1)\n",
        "y = df['y']\n",
        "\n",
        "# separando conjuntos de treinamento e teste\n",
        "X_train, X_test, y_train, y_test = train_test_split(x, y, test_size=0.3, stratify=y, random_state=1)\n",
        "\n",
        "# selecionando o modelo\n",
        "clf = LogisticRegression()\n",
        "\n",
        "# treinando o modelo\n",
        "clf.fit(X_train,y_train)\n",
        "\n",
        "# utilizando o modelo\n",
        "y_pred = clf.predict(X_test)\n",
        "\n",
        "# verificando o resultado\n",
        "print( clf.score(X_test,y_test) )"
      ]
    },
    {
      "cell_type": "markdown",
      "metadata": {
        "_uuid": "9dd9e07c590ca22f0c525222f60f0ebff4e092c6",
        "id": "SLTshJXLA4LT"
      },
      "source": [
        "# Caso: **Consumo de combustível em veículos**\n",
        "\n",
        "Neste Lab você vai empregar o modelo de Regressão Logística para classificar a origem de veículos a partir de dados de consumo de combustível em veículos (milhas por galão, mpg) e outras informações.\n",
        "\n",
        "Dados (originais): https://archive.ics.uci.edu/ml/datasets/auto+mpg"
      ]
    },
    {
      "cell_type": "markdown",
      "metadata": {
        "id": "ufen9jyZN7Kr"
      },
      "source": [
        "## Seus imports"
      ]
    },
    {
      "cell_type": "code",
      "execution_count": 10,
      "metadata": {
        "id": "UPVeFK3a5i6d"
      },
      "outputs": [],
      "source": [
        "import seaborn as sns\n",
        "import pandas as pd"
      ]
    },
    {
      "cell_type": "markdown",
      "metadata": {
        "id": "-xbHxSQ8Px1-"
      },
      "source": [
        "## Load data set"
      ]
    },
    {
      "cell_type": "code",
      "execution_count": 11,
      "metadata": {
        "colab": {
          "base_uri": "https://localhost:8080/"
        },
        "id": "S4n19clB0fvg",
        "outputId": "0337ffe3-a502-407a-98d2-fd4e03c790e8"
      },
      "outputs": [
        {
          "output_type": "stream",
          "name": "stdout",
          "text": [
            "<class 'pandas.core.frame.DataFrame'>\n",
            "RangeIndex: 398 entries, 0 to 397\n",
            "Data columns (total 9 columns):\n",
            " #   Column        Non-Null Count  Dtype  \n",
            "---  ------        --------------  -----  \n",
            " 0   mpg           398 non-null    float64\n",
            " 1   cylinders     398 non-null    int64  \n",
            " 2   displacement  398 non-null    float64\n",
            " 3   horsepower    392 non-null    float64\n",
            " 4   weight        398 non-null    int64  \n",
            " 5   acceleration  398 non-null    float64\n",
            " 6   model_year    398 non-null    int64  \n",
            " 7   origin        398 non-null    object \n",
            " 8   name          398 non-null    object \n",
            "dtypes: float64(4), int64(3), object(2)\n",
            "memory usage: 28.1+ KB\n",
            "None\n",
            "              mpg   cylinders  displacement  horsepower       weight  \\\n",
            "count  398.000000  398.000000    398.000000  392.000000   398.000000   \n",
            "mean    23.514573    5.454774    193.425879  104.469388  2970.424623   \n",
            "std      7.815984    1.701004    104.269838   38.491160   846.841774   \n",
            "min      9.000000    3.000000     68.000000   46.000000  1613.000000   \n",
            "25%     17.500000    4.000000    104.250000   75.000000  2223.750000   \n",
            "50%     23.000000    4.000000    148.500000   93.500000  2803.500000   \n",
            "75%     29.000000    8.000000    262.000000  126.000000  3608.000000   \n",
            "max     46.600000    8.000000    455.000000  230.000000  5140.000000   \n",
            "\n",
            "       acceleration  model_year  \n",
            "count    398.000000  398.000000  \n",
            "mean      15.568090   76.010050  \n",
            "std        2.757689    3.697627  \n",
            "min        8.000000   70.000000  \n",
            "25%       13.825000   73.000000  \n",
            "50%       15.500000   76.000000  \n",
            "75%       17.175000   79.000000  \n",
            "max       24.800000   82.000000  \n"
          ]
        }
      ],
      "source": [
        "mpg = sns.load_dataset('mpg')\n",
        "\n",
        "X = mpg.drop(columns=['mpg'])  # features\n",
        "y = mpg['mpg']  # target\n",
        "\n",
        "print(mpg.info())\n",
        "\n",
        "print(mpg.describe())"
      ]
    },
    {
      "cell_type": "markdown",
      "metadata": {
        "id": "A08qG6zaQi6t"
      },
      "source": [
        "# Exercício. Exclua os valores ausentes\n",
        "\n",
        "Valores ausentes não podem ser empregados no cálculo dos coeficientes da regressão logística, e são um problema para muitos outros modelos. Existem várias formas de se tratar dados ausentes. Aqui vamos, por simplicidade, simplesmente excluir as linhas com dados ausentes.\n",
        "\n",
        "> Qual atributo apresenta valores ausentes e quantas linhas foram excluídas dos dados?\n",
        "\n",
        "**Dica:** Empregue `df.isna().sum()` para identificar dados ausentes e `df.dropna()` para excluir as linhas.\n",
        "\n"
      ]
    },
    {
      "cell_type": "code",
      "execution_count": 17,
      "metadata": {
        "id": "B4CVYeZbQUVc",
        "colab": {
          "base_uri": "https://localhost:8080/"
        },
        "outputId": "601db236-6314-4b03-90fa-596669bc8835"
      },
      "outputs": [
        {
          "output_type": "stream",
          "name": "stdout",
          "text": [
            "Valores ausentes por coluna:\n",
            "mpg             0\n",
            "cylinders       0\n",
            "displacement    0\n",
            "horsepower      6\n",
            "weight          0\n",
            "acceleration    0\n",
            "model_year      0\n",
            "origin          0\n",
            "name            0\n",
            "dtype: int64\n",
            "Pré da exclusão: 398\n",
            "Pós exclusão: 392\n",
            "Total de linhas excluídas: 6\n",
            "Colunas com valores ausentes: ['horsepower']\n"
          ]
        }
      ],
      "source": [
        "ausentes = mpg.isnull().sum()\n",
        "print(\"Valores ausentes por coluna:\")\n",
        "print(ausentes)\n",
        "\n",
        "pre_excluir = mpg.shape[0]\n",
        "\n",
        "mpg_limpo = mpg.dropna()\n",
        "\n",
        "pos_excluir = mpg_limpo.shape[0]\n",
        "\n",
        "excluidas = pre_excluir - pos_excluir\n",
        "\n",
        "print(f\"Pré da exclusão: {pre_excluir}\")\n",
        "print(f\"Pós exclusão: {pos_excluir}\")\n",
        "print(f\"Total de linhas excluídas: {excluidas}\")\n",
        "\n",
        "colunas_ausentes = ausentes[ausentes > 0].index.tolist()\n",
        "print(f\"Colunas com valores ausentes: {colunas_ausentes}\")\n"
      ]
    },
    {
      "cell_type": "markdown",
      "metadata": {
        "id": "fMajp0a6SAqS"
      },
      "source": [
        "# Exercício. Altere os valores do campo `origin`\n",
        "\n",
        "A Regressão Logística é um classificador binário. Altere os valores do campo `origin`:"
      ]
    },
    {
      "cell_type": "code",
      "execution_count": null,
      "metadata": {
        "id": "ca-1fpjAEhQG"
      },
      "outputs": [],
      "source": [
        "# seu código"
      ]
    },
    {
      "cell_type": "markdown",
      "metadata": {
        "id": "yN84HQeOSd62"
      },
      "source": [
        "para os valores `usa` e `non-usa` para podermos classificar a origem dos veículos como sendo dos Estados Unidos ou não.\n",
        "\n",
        "> Quantos veículos `usa` e `non-usa` foram obtidos?\n",
        "\n",
        "**Dica:** Empregue `df.campo.replace('old','new')`"
      ]
    },
    {
      "cell_type": "code",
      "execution_count": 22,
      "metadata": {
        "id": "m6Mj132ha8dJ",
        "colab": {
          "base_uri": "https://localhost:8080/"
        },
        "outputId": "4e47d059-59f5-4dd4-8882-cc2f855817eb"
      },
      "outputs": [
        {
          "output_type": "stream",
          "name": "stdout",
          "text": [
            "\n",
            "DataFrame modificado:\n",
            "    mpg  cylinders  displacement  horsepower  weight  acceleration  \\\n",
            "0  18.0          8         307.0       130.0    3504          12.0   \n",
            "1  15.0          8         350.0       165.0    3693          11.5   \n",
            "2  18.0          8         318.0       150.0    3436          11.0   \n",
            "3  16.0          8         304.0       150.0    3433          12.0   \n",
            "4  17.0          8         302.0       140.0    3449          10.5   \n",
            "\n",
            "   model_year origin                       name  \n",
            "0          70    EUA  chevrolet chevelle malibu  \n",
            "1          70    EUA          buick skylark 320  \n",
            "2          70    EUA         plymouth satellite  \n",
            "3          70    EUA              amc rebel sst  \n",
            "4          70    EUA                ford torino  \n"
          ]
        }
      ],
      "source": [
        "# seu código\n",
        "mpg_limpo['origin'] = mpg_limpo['origin'].replace({'usa': 'usa', 'europe': 'não-usa', 'japan': 'não-usa'})\n",
        "\n",
        "contagem_usa = (mpg_limpo['origin'] == 'usa').sum()\n",
        "contagem_nao_usa = (mpg_limpo['origin'] == 'não-usa').sum()\n",
        "\n",
        "print(\"\\nDataFrame modificado:\")\n",
        "print(mpg_limpo.head())\n"
      ]
    },
    {
      "cell_type": "markdown",
      "metadata": {
        "id": "AIKiwRtxT114"
      },
      "source": [
        "# Exercício. Classifique a `origin` dos veículos a partir dos valores de `mpg` e `cylinders`\n",
        "\n",
        "Empregue o modelo de Regressão Logística para classificar a `origin` dos veículos a partir somente dos valores de `mpg` e `cylinders`.\n",
        "\n",
        "Empregue $30$% para dados de teste, estratificados pelo atributo de classe e a semente de geração aleatória (`random_state=1`).\n",
        "\n",
        "> Qual a acuracidade (*score*) obtido pelo modelo?\n",
        "\n",
        "**Dica:** *Muito Cuidado*. Se você não empregar exatamente as configurações acima você vai criar conjuntos de treinamento e testes diferentes e não vai chegar às respostas que encontra nos testes!"
      ]
    },
    {
      "cell_type": "code",
      "execution_count": 23,
      "metadata": {
        "id": "570uz7Mk26jy",
        "colab": {
          "base_uri": "https://localhost:8080/"
        },
        "outputId": "4f9cec93-4f35-4d23-9911-f9ec29eee9d8"
      },
      "outputs": [
        {
          "output_type": "stream",
          "name": "stdout",
          "text": [
            "Acurácia do modelo: 0.81\n"
          ]
        }
      ],
      "source": [
        "mpg = sns.load_dataset('mpg')\n",
        "\n",
        "mpg_limpo = mpg.dropna().copy()  # Faça uma cópia do DataFrame para evitar o aviso\n",
        "\n",
        "mpg_limpo.loc[:, 'origin'] = mpg_limpo['origin'].replace({'usa': 'EUA', 'europe': 'Outros', 'japan': 'Outros'})\n",
        "\n",
        "X = mpg_limpo[['mpg', 'cylinders']]\n",
        "y = (mpg_limpo['origin'] == 'EUA').astype(int)\n",
        "\n",
        "X_treino, X_teste, y_treino, y_teste = train_test_split(X, y, test_size=0.3, stratify=y, random_state=1)\n",
        "\n",
        "modelo_logreg = LogisticRegression(random_state=1)\n",
        "modelo_logreg.fit(X_treino, y_treino)\n",
        "\n",
        "y_predito = modelo_logreg.predict(X_teste)\n",
        "\n",
        "acuracia = accuracy_score(y_teste, y_predito)\n",
        "\n",
        "print(f\"Acurácia do modelo: {acuracia:.2f}\")\n"
      ]
    },
    {
      "cell_type": "markdown",
      "metadata": {
        "id": "NevXaFi5VFLB"
      },
      "source": [
        "# Exercício. Classifique os veículos com valores `mpg` e `cylinders` igual aos valores máximos e mínimos dos dados\n",
        "\n",
        "Você não vai ter nenhuma surpresa aqui com o resultado :-)\n",
        "\n",
        "> Qual o resultado da classificação?\n",
        "\n",
        "**Dica:** Crie um dataframe exatamente com esses atributos e os valores minímo e máximos encontrados no dataframe original para sua entrada no `predict()`.\n"
      ]
    },
    {
      "cell_type": "code",
      "execution_count": 26,
      "metadata": {
        "id": "7vRGQx-9VjSN",
        "colab": {
          "base_uri": "https://localhost:8080/"
        },
        "outputId": "4c1a8adf-17c5-42ef-e62d-ccd734981d2a"
      },
      "outputs": [
        {
          "output_type": "stream",
          "name": "stdout",
          "text": [
            "\n",
            "Valores testados e suas respectivas previsões:\n",
            "    mpg  cylinders previsão\n",
            "0   9.0          3  não-EUA\n",
            "1   9.0          8      EUA\n",
            "2  46.6          3  não-EUA\n",
            "3  46.6          8      EUA\n"
          ]
        }
      ],
      "source": [
        "valores_teste.rename(columns={'cilindros': 'cylinders'}, inplace=True)\n",
        "\n",
        "previsoes = modelo_logreg.predict(valores_teste)\n",
        "\n",
        "previsoes_mapeadas = ['EUA' if pred == 1 else 'não-EUA' for pred in previsoes]\n",
        "\n",
        "resultado_df = valores_teste.copy()\n",
        "resultado_df['previsão'] = previsoes_mapeadas\n",
        "\n",
        "print(\"\\nValores testados e suas respectivas previsões:\")\n",
        "print(resultado_df)\n"
      ]
    },
    {
      "cell_type": "markdown",
      "metadata": {
        "id": "OkKRssUpXK4t"
      },
      "source": [
        "# Exercício. Classifique a `origin` dos veículos a partir de todos os preditores válidos\n",
        "\n",
        "Empregue agora o modelo de Regressão Logística para classificar a `origin` dos veículos a partir de todos os preditores válidos\n",
        "\n",
        "Empregue $30$% para dados de teste, estratificados pelo atributo de classe e a semente de geração aleatória (`random_state=1`).\n",
        "\n",
        "> Qual a acuracidade (*score*) obtido pelo modelo?\n",
        "\n",
        "**Dica:** *Muito Cuidado*. Se você não empregar exatamente as configurações acima você vai criar conjuntos de treinamento e testes diferentes e não vai chegar às respostas que encontra nos testes!\n",
        "\n",
        "**Dica:** Existe um atributo que não faz sentido ser empregado como preditor e precisa ser excluído das variáveis de entrada. Qual?"
      ]
    },
    {
      "cell_type": "code",
      "execution_count": 27,
      "metadata": {
        "id": "WG8usyodXHrP",
        "colab": {
          "base_uri": "https://localhost:8080/"
        },
        "outputId": "4e91c292-29a9-46d5-9fee-6742a4388217"
      },
      "outputs": [
        {
          "output_type": "stream",
          "name": "stdout",
          "text": [
            "Acurácia do modelo: 0.81\n"
          ]
        }
      ],
      "source": [
        "# seu código\n",
        "X_treino, X_teste, y_treino, y_teste = train_test_split(X, y, test_size=0.3, stratify=y, random_state=1)\n",
        "\n",
        "modelo_logreg = LogisticRegression(random_state=1)\n",
        "modelo_logreg.fit(X_treino, y_treino)\n",
        "\n",
        "y_predito = modelo_logreg.predict(X_teste)\n",
        "\n",
        "acuracia = accuracy_score(y_teste, y_predito)\n",
        "\n",
        "print(f\"Acurácia do modelo: {acuracia:.2f}\")\n",
        "\n"
      ]
    }
  ],
  "metadata": {
    "anaconda-cloud": {},
    "colab": {
      "provenance": []
    },
    "kernelspec": {
      "display_name": "Python 3",
      "language": "python",
      "name": "python3"
    },
    "language_info": {
      "codemirror_mode": {
        "name": "ipython",
        "version": 3
      },
      "file_extension": ".py",
      "mimetype": "text/x-python",
      "name": "python",
      "nbconvert_exporter": "python",
      "pygments_lexer": "ipython3",
      "version": "3.8.8"
    }
  },
  "nbformat": 4,
  "nbformat_minor": 0
}